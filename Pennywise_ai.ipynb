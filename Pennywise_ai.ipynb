{
  "cells": [
    {
      "cell_type": "code",
      "execution_count": null,
      "metadata": {
        "colab": {
          "base_uri": "https://localhost:8080/"
        },
        "id": "2RGxnxhBGGUm",
        "outputId": "319ed797-ae02-4639-c39d-163fa9ce4e05"
      },
      "outputs": [
        {
          "output_type": "stream",
          "name": "stdout",
          "text": [
            "Collecting py\n",
            "  Downloading py-1.11.0-py2.py3-none-any.whl (98 kB)\n",
            "\u001b[2K     \u001b[90m━━━━━━━━━━━━━━━━━━━━━━━━━━━━━━━━━━━━━━━\u001b[0m \u001b[32m98.7/98.7 kB\u001b[0m \u001b[31m943.9 kB/s\u001b[0m eta \u001b[36m0:00:00\u001b[0m\n",
            "\u001b[?25hInstalling collected packages: py\n",
            "Successfully installed py-1.11.0\n"
          ]
        }
      ],
      "source": [
        "!pip install py"
      ]
    },
    {
      "cell_type": "code",
      "execution_count": null,
      "metadata": {
        "colab": {
          "base_uri": "https://localhost:8080/"
        },
        "id": "ebxh8sni_ChP",
        "outputId": "86a3644c-0cce-4c7b-fca2-ab64e376cbe6"
      },
      "outputs": [
        {
          "output_type": "stream",
          "name": "stdout",
          "text": [
            "Collecting pdfplumber\n",
            "  Downloading pdfplumber-0.10.2-py3-none-any.whl (47 kB)\n",
            "\u001b[?25l     \u001b[90m━━━━━━━━━━━━━━━━━━━━━━━━━━━━━━━━━━━━━━━━\u001b[0m \u001b[32m0.0/47.5 kB\u001b[0m \u001b[31m?\u001b[0m eta \u001b[36m-:--:--\u001b[0m\r\u001b[2K     \u001b[90m━━━━━━━━━━━━━━━━━━━━━━━━━━━━━━━━━━━━━━━━\u001b[0m \u001b[32m47.5/47.5 kB\u001b[0m \u001b[31m1.6 MB/s\u001b[0m eta \u001b[36m0:00:00\u001b[0m\n",
            "\u001b[?25hCollecting pdfminer.six==20221105 (from pdfplumber)\n",
            "  Downloading pdfminer.six-20221105-py3-none-any.whl (5.6 MB)\n",
            "\u001b[2K     \u001b[90m━━━━━━━━━━━━━━━━━━━━━━━━━━━━━━━━━━━━━━━━\u001b[0m \u001b[32m5.6/5.6 MB\u001b[0m \u001b[31m56.7 MB/s\u001b[0m eta \u001b[36m0:00:00\u001b[0m\n",
            "\u001b[?25hRequirement already satisfied: Pillow>=9.1 in /usr/local/lib/python3.10/dist-packages (from pdfplumber) (9.4.0)\n",
            "Collecting pypdfium2>=4.18.0 (from pdfplumber)\n",
            "  Downloading pypdfium2-4.18.0-py3-none-manylinux_2_17_x86_64.whl (2.9 MB)\n",
            "\u001b[2K     \u001b[90m━━━━━━━━━━━━━━━━━━━━━━━━━━━━━━━━━━━━━━━━\u001b[0m \u001b[32m2.9/2.9 MB\u001b[0m \u001b[31m37.7 MB/s\u001b[0m eta \u001b[36m0:00:00\u001b[0m\n",
            "\u001b[?25hRequirement already satisfied: charset-normalizer>=2.0.0 in /usr/local/lib/python3.10/dist-packages (from pdfminer.six==20221105->pdfplumber) (3.2.0)\n",
            "Requirement already satisfied: cryptography>=36.0.0 in /usr/local/lib/python3.10/dist-packages (from pdfminer.six==20221105->pdfplumber) (41.0.3)\n",
            "Requirement already satisfied: cffi>=1.12 in /usr/local/lib/python3.10/dist-packages (from cryptography>=36.0.0->pdfminer.six==20221105->pdfplumber) (1.15.1)\n",
            "Requirement already satisfied: pycparser in /usr/local/lib/python3.10/dist-packages (from cffi>=1.12->cryptography>=36.0.0->pdfminer.six==20221105->pdfplumber) (2.21)\n",
            "Installing collected packages: pypdfium2, pdfminer.six, pdfplumber\n",
            "Successfully installed pdfminer.six-20221105 pdfplumber-0.10.2 pypdfium2-4.18.0\n"
          ]
        }
      ],
      "source": [
        "!pip install pdfplumber"
      ]
    },
    {
      "cell_type": "code",
      "execution_count": null,
      "metadata": {
        "colab": {
          "base_uri": "https://localhost:8080/"
        },
        "id": "J_9r8TkNbWJL",
        "outputId": "b281a43e-eb51-407e-e41b-eef6087f6147"
      },
      "outputs": [
        {
          "output_type": "stream",
          "name": "stdout",
          "text": [
            "Collecting duckduckgo-search\n",
            "  Downloading duckduckgo_search-3.8.5-py3-none-any.whl (18 kB)\n",
            "Collecting aiofiles>=23.1.0 (from duckduckgo-search)\n",
            "  Downloading aiofiles-23.2.1-py3-none-any.whl (15 kB)\n",
            "Requirement already satisfied: click>=8.1.3 in /usr/local/lib/python3.10/dist-packages (from duckduckgo-search) (8.1.7)\n",
            "Requirement already satisfied: lxml>=4.9.2 in /usr/local/lib/python3.10/dist-packages (from duckduckgo-search) (4.9.3)\n",
            "Collecting httpx[brotli,http2,socks]>=0.24.1 (from duckduckgo-search)\n",
            "  Downloading httpx-0.24.1-py3-none-any.whl (75 kB)\n",
            "\u001b[2K     \u001b[90m━━━━━━━━━━━━━━━━━━━━━━━━━━━━━━━━━━━━━━━━\u001b[0m \u001b[32m75.4/75.4 kB\u001b[0m \u001b[31m1.7 MB/s\u001b[0m eta \u001b[36m0:00:00\u001b[0m\n",
            "\u001b[?25hRequirement already satisfied: certifi in /usr/local/lib/python3.10/dist-packages (from httpx[brotli,http2,socks]>=0.24.1->duckduckgo-search) (2023.7.22)\n",
            "Collecting httpcore<0.18.0,>=0.15.0 (from httpx[brotli,http2,socks]>=0.24.1->duckduckgo-search)\n",
            "  Downloading httpcore-0.17.3-py3-none-any.whl (74 kB)\n",
            "\u001b[2K     \u001b[90m━━━━━━━━━━━━━━━━━━━━━━━━━━━━━━━━━━━━━━━━\u001b[0m \u001b[32m74.5/74.5 kB\u001b[0m \u001b[31m6.9 MB/s\u001b[0m eta \u001b[36m0:00:00\u001b[0m\n",
            "\u001b[?25hRequirement already satisfied: idna in /usr/local/lib/python3.10/dist-packages (from httpx[brotli,http2,socks]>=0.24.1->duckduckgo-search) (3.4)\n",
            "Requirement already satisfied: sniffio in /usr/local/lib/python3.10/dist-packages (from httpx[brotli,http2,socks]>=0.24.1->duckduckgo-search) (1.3.0)\n",
            "Collecting socksio==1.* (from httpx[brotli,http2,socks]>=0.24.1->duckduckgo-search)\n",
            "  Downloading socksio-1.0.0-py3-none-any.whl (12 kB)\n",
            "Collecting h2<5,>=3 (from httpx[brotli,http2,socks]>=0.24.1->duckduckgo-search)\n",
            "  Downloading h2-4.1.0-py3-none-any.whl (57 kB)\n",
            "\u001b[2K     \u001b[90m━━━━━━━━━━━━━━━━━━━━━━━━━━━━━━━━━━━━━━━━\u001b[0m \u001b[32m57.5/57.5 kB\u001b[0m \u001b[31m5.0 MB/s\u001b[0m eta \u001b[36m0:00:00\u001b[0m\n",
            "\u001b[?25hCollecting brotli (from httpx[brotli,http2,socks]>=0.24.1->duckduckgo-search)\n",
            "  Downloading Brotli-1.0.9-cp310-cp310-manylinux_2_5_x86_64.manylinux1_x86_64.manylinux_2_12_x86_64.manylinux2010_x86_64.whl (2.7 MB)\n",
            "\u001b[2K     \u001b[90m━━━━━━━━━━━━━━━━━━━━━━━━━━━━━━━━━━━━━━━━\u001b[0m \u001b[32m2.7/2.7 MB\u001b[0m \u001b[31m51.6 MB/s\u001b[0m eta \u001b[36m0:00:00\u001b[0m\n",
            "\u001b[?25hCollecting hyperframe<7,>=6.0 (from h2<5,>=3->httpx[brotli,http2,socks]>=0.24.1->duckduckgo-search)\n",
            "  Downloading hyperframe-6.0.1-py3-none-any.whl (12 kB)\n",
            "Collecting hpack<5,>=4.0 (from h2<5,>=3->httpx[brotli,http2,socks]>=0.24.1->duckduckgo-search)\n",
            "  Downloading hpack-4.0.0-py3-none-any.whl (32 kB)\n",
            "Collecting h11<0.15,>=0.13 (from httpcore<0.18.0,>=0.15.0->httpx[brotli,http2,socks]>=0.24.1->duckduckgo-search)\n",
            "  Downloading h11-0.14.0-py3-none-any.whl (58 kB)\n",
            "\u001b[2K     \u001b[90m━━━━━━━━━━━━━━━━━━━━━━━━━━━━━━━━━━━━━━━━\u001b[0m \u001b[32m58.3/58.3 kB\u001b[0m \u001b[31m6.6 MB/s\u001b[0m eta \u001b[36m0:00:00\u001b[0m\n",
            "\u001b[?25hRequirement already satisfied: anyio<5.0,>=3.0 in /usr/local/lib/python3.10/dist-packages (from httpcore<0.18.0,>=0.15.0->httpx[brotli,http2,socks]>=0.24.1->duckduckgo-search) (3.7.1)\n",
            "Requirement already satisfied: exceptiongroup in /usr/local/lib/python3.10/dist-packages (from anyio<5.0,>=3.0->httpcore<0.18.0,>=0.15.0->httpx[brotli,http2,socks]>=0.24.1->duckduckgo-search) (1.1.3)\n",
            "Installing collected packages: brotli, socksio, hyperframe, hpack, h11, aiofiles, httpcore, h2, httpx, duckduckgo-search\n",
            "Successfully installed aiofiles-23.2.1 brotli-1.0.9 duckduckgo-search-3.8.5 h11-0.14.0 h2-4.1.0 hpack-4.0.0 httpcore-0.17.3 httpx-0.24.1 hyperframe-6.0.1 socksio-1.0.0\n"
          ]
        }
      ],
      "source": [
        "!pip install duckduckgo-search"
      ]
    },
    {
      "cell_type": "code",
      "execution_count": null,
      "metadata": {
        "colab": {
          "base_uri": "https://localhost:8080/"
        },
        "id": "RRYSu48huSUW",
        "outputId": "6b65d6f1-cf9b-4c64-c3ca-dd31ab3584ce"
      },
      "outputs": [
        {
          "output_type": "stream",
          "name": "stdout",
          "text": [
            "\u001b[2K     \u001b[90m━━━━━━━━━━━━━━━━━━━━━━━━━━━━━━━━━━━━━━━━\u001b[0m \u001b[32m1.6/1.6 MB\u001b[0m \u001b[31m13.3 MB/s\u001b[0m eta \u001b[36m0:00:00\u001b[0m\n",
            "\u001b[2K     \u001b[90m━━━━━━━━━━━━━━━━━━━━━━━━━━━━━━━━━━━━━━━━\u001b[0m \u001b[32m75.5/75.5 kB\u001b[0m \u001b[31m8.9 MB/s\u001b[0m eta \u001b[36m0:00:00\u001b[0m\n",
            "\u001b[2K     \u001b[90m━━━━━━━━━━━━━━━━━━━━━━━━━━━━━━━━━━━━━━━━\u001b[0m \u001b[32m1.7/1.7 MB\u001b[0m \u001b[31m34.5 MB/s\u001b[0m eta \u001b[36m0:00:00\u001b[0m\n",
            "\u001b[2K     \u001b[90m━━━━━━━━━━━━━━━━━━━━━━━━━━━━━━━━━━━━━━━━\u001b[0m \u001b[32m49.4/49.4 kB\u001b[0m \u001b[31m5.3 MB/s\u001b[0m eta \u001b[36m0:00:00\u001b[0m\n",
            "\u001b[?25h"
          ]
        }
      ],
      "source": [
        "!pip -q install langchain openai tiktoken yfinance\n"
      ]
    },
    {
      "cell_type": "code",
      "execution_count": null,
      "metadata": {
        "id": "dNA4TsHpu6OM"
      },
      "outputs": [],
      "source": [
        "import os\n",
        "\n",
        "os.environ[\"OPENAI_API_KEY\"] = \"YOUR_API_KEY\""
      ]
    },
    {
      "cell_type": "code",
      "execution_count": null,
      "metadata": {
        "colab": {
          "base_uri": "https://localhost:8080/"
        },
        "id": "J-KFB7J_u_3L",
        "outputId": "49281385-5fac-4e85-d9c1-2bd3a2fcfc6d"
      },
      "outputs": [
        {
          "output_type": "stream",
          "name": "stdout",
          "text": [
            "Name: langchain\n",
            "Version: 0.0.272\n",
            "Summary: Building applications with LLMs through composability\n",
            "Home-page: https://github.com/langchain-ai/langchain\n",
            "Author: \n",
            "Author-email: \n",
            "License: MIT\n",
            "Location: /usr/local/lib/python3.10/dist-packages\n",
            "Requires: aiohttp, async-timeout, dataclasses-json, google-api-core, langsmith, numexpr, numpy, pydantic, PyYAML, requests, SQLAlchemy, tenacity\n",
            "Required-by: \n"
          ]
        }
      ],
      "source": [
        "!pip show langchain"
      ]
    },
    {
      "cell_type": "markdown",
      "metadata": {
        "id": "tGsd4tc_WC9P"
      },
      "source": [
        "## Understanding OpenAI Functions"
      ]
    },
    {
      "cell_type": "markdown",
      "metadata": {
        "id": "0aOMX8logkFm"
      },
      "source": [
        "### Simple example"
      ]
    },
    {
      "cell_type": "code",
      "execution_count": null,
      "metadata": {
        "id": "VoCQg4K_gu31"
      },
      "outputs": [],
      "source": [
        "functions = [\n",
        "    {\n",
        "        \"name\": \"get_current_weather\",\n",
        "        \"description\": \"Get the current weather\",\n",
        "        \"parameters\": {\n",
        "            \"type\": \"object\",\n",
        "            \"properties\": {\n",
        "                \"location\": {\n",
        "                    \"type\": \"string\",\n",
        "                    \"description\": \"The city and state, e.g. San Francisco, CA\",\n",
        "                },\n",
        "                \"format\": {\n",
        "                    \"type\": \"string\",\n",
        "                    \"enum\": [\"celsius\", \"fahrenheit\"],\n",
        "                    \"description\": \"The temperature unit to use. Infer this from the users location.\",\n",
        "                },\n",
        "            },\n",
        "            \"required\": [\"location\", \"format\"],\n",
        "        },\n",
        "    }\n",
        "]"
      ]
    },
    {
      "cell_type": "markdown",
      "metadata": {
        "id": "HqwsGJDhvAQ5"
      },
      "source": [
        "### Setting up YFinance\n"
      ]
    },
    {
      "cell_type": "code",
      "execution_count": null,
      "metadata": {
        "colab": {
          "base_uri": "https://localhost:8080/"
        },
        "id": "YRI5440YQQGC",
        "outputId": "28e2363d-69a2-475b-8631-d5050040a32b"
      },
      "outputs": [
        {
          "output_type": "stream",
          "name": "stdout",
          "text": [
            "176.38\n"
          ]
        }
      ],
      "source": [
        "import yfinance as yf\n",
        "\n",
        "def get_stock_price(symbol,tool_input=None):\n",
        "    ticker = yf.Ticker(symbol)\n",
        "    todays_data = ticker.history(period='1d')\n",
        "    return round(todays_data['Close'][0], 2)\n",
        "\n",
        "print(get_stock_price('AAPL'))\n",
        "\n"
      ]
    },
    {
      "cell_type": "markdown",
      "metadata": {
        "id": "bu0S2hVvhL9U"
      },
      "source": [
        "### Setting up tools"
      ]
    },
    {
      "cell_type": "code",
      "execution_count": null,
      "metadata": {
        "id": "HMsQheoUhOWy"
      },
      "outputs": [],
      "source": [
        "from langchain.tools import BaseTool\n",
        "from typing import Optional, Type\n",
        "from langchain.agents import initialize_agent, Tool\n",
        "from langchain.agents import AgentType\n",
        "from langchain.chat_models import ChatOpenAI"
      ]
    },
    {
      "cell_type": "code",
      "execution_count": null,
      "metadata": {
        "id": "5RZ8J3RihbPN"
      },
      "outputs": [],
      "source": [
        "from langchain.tools import DuckDuckGoSearchRun\n",
        "from langchain.agents import Tool\n",
        "from langchain.tools import BaseTool\n",
        "\n",
        "search = DuckDuckGoSearchRun()\n",
        "# # # defining a single tool\n",
        "DUCKSEARCH = Tool(\n",
        "         name = \"search\",\n",
        "          func=search.run,\n",
        "          description=\"useful for when you need to answer questions about current events. You should ask targeted questions\"\n",
        "   )\n"
      ]
    },
    {
      "cell_type": "code",
      "execution_count": null,
      "metadata": {
        "id": "Qdcr69QZoFJm"
      },
      "outputs": [],
      "source": [
        "from pydantic import BaseModel, Field\n",
        "\n",
        "class StockPriceCheckInput(BaseModel):\n",
        "    \"\"\"Input for Stock price check.\"\"\"\n",
        "\n",
        "    stockticker: str = Field(..., description=\"Ticker symbol for stock or index\")\n"
      ]
    },
    {
      "cell_type": "code",
      "execution_count": null,
      "metadata": {
        "id": "BiWuFYxzmDyR"
      },
      "outputs": [],
      "source": [
        "class StockPriceTool(BaseTool):\n",
        "    name = \"get_stock_ticker_price\"\n",
        "    description = \"Useful for when you need to find out the price of stock. You should input the stock ticker used on the yfinance API\"\n",
        "\n",
        "    def _run(self, stockticker: str):\n",
        "        # print(\"i'm running\")\n",
        "        price_response = get_stock_price(stockticker)\n",
        "\n",
        "        return price_response\n",
        "\n",
        "    def _arun(self, stockticker: str):\n",
        "        raise NotImplementedError(\"This tool does not support async\")\n",
        "\n",
        "    args_schema: Optional[Type[BaseModel]] = StockPriceCheckInput\n"
      ]
    },
    {
      "cell_type": "code",
      "execution_count": null,
      "metadata": {
        "id": "-UwMNnkUhg6N"
      },
      "outputs": [],
      "source": [
        "StockPriceTool = Tool(\n",
        "    name='GetStockTickerprice',\n",
        "    func= get_stock_price,\n",
        "     description=\"Useful for when you need to find out the price of stock. You should input the stock ticker used on the yfinance API\"\n",
        " )"
      ]
    },
    {
      "cell_type": "markdown",
      "metadata": {
        "id": "co-Wa69TWAUg"
      },
      "source": [
        "## LangChain doing it Manualy"
      ]
    },
    {
      "cell_type": "code",
      "execution_count": null,
      "metadata": {
        "id": "LKlnewa8UP7H"
      },
      "outputs": [],
      "source": [
        "from langchain.chat_models import ChatOpenAI\n",
        "from langchain.schema import HumanMessage, AIMessage, ChatMessage, FunctionMessage"
      ]
    },
    {
      "cell_type": "code",
      "execution_count": null,
      "metadata": {
        "id": "7xUwdGJybkmK"
      },
      "outputs": [],
      "source": [
        "model = ChatOpenAI(model=\"gpt-3.5-turbo-0613\")"
      ]
    },
    {
      "cell_type": "code",
      "execution_count": null,
      "metadata": {
        "id": "G4uYEmS9bmv0"
      },
      "outputs": [],
      "source": [
        "from langchain.tools import MoveFileTool, format_tool_to_openai_function"
      ]
    },
    {
      "cell_type": "code",
      "execution_count": null,
      "metadata": {
        "colab": {
          "base_uri": "https://localhost:8080/"
        },
        "id": "oiUB4r15kw3V",
        "outputId": "4672d004-a8fa-4b0c-ffcf-ae12e8c3801b"
      },
      "outputs": [
        {
          "output_type": "execute_result",
          "data": {
            "text/plain": [
              "{'name': 'move_file',\n",
              " 'description': 'Move or rename a file from one location to another',\n",
              " 'parameters': {'title': 'FileMoveInput',\n",
              "  'description': 'Input for MoveFileTool.',\n",
              "  'type': 'object',\n",
              "  'properties': {'source_path': {'title': 'Source Path',\n",
              "    'description': 'Path of the file to move',\n",
              "    'type': 'string'},\n",
              "   'destination_path': {'title': 'Destination Path',\n",
              "    'description': 'New path for the moved file',\n",
              "    'type': 'string'}},\n",
              "  'required': ['source_path', 'destination_path']}}"
            ]
          },
          "metadata": {},
          "execution_count": 18
        }
      ],
      "source": [
        "{'name': 'move_file',\n",
        " 'description': 'Move or rename a file from one location to another',\n",
        " 'parameters': {'title': 'FileMoveInput',\n",
        "                'description': 'Input for MoveFileTool.',\n",
        "                'type': 'object',\n",
        "                'properties': {'source_path': {'title': 'Source Path',\n",
        "                                               'description': 'Path of the file to move',\n",
        "                                               'type': 'string'},\n",
        "                               'destination_path': {'title': 'Destination Path',\n",
        "                                               'description': 'New path for the moved file',\n",
        "                                               'type': 'string'}},\n",
        "                'required': ['source_path', 'destination_path']}}"
      ]
    },
    {
      "cell_type": "code",
      "execution_count": null,
      "metadata": {
        "colab": {
          "base_uri": "https://localhost:8080/"
        },
        "id": "fQnwupGhjI0_",
        "outputId": "fe7ab317-da71-43b7-df10-be3ee7056494"
      },
      "outputs": [
        {
          "output_type": "execute_result",
          "data": {
            "text/plain": [
              "{'title': 'FileMoveInput',\n",
              " 'description': 'Input for MoveFileTool.',\n",
              " 'type': 'object',\n",
              " 'properties': {'source_path': {'title': 'Source Path',\n",
              "   'description': 'Path of the file to move',\n",
              "   'type': 'string'},\n",
              "  'destination_path': {'title': 'Destination Path',\n",
              "   'description': 'New path for the moved file',\n",
              "   'type': 'string'}},\n",
              " 'required': ['source_path', 'destination_path']}"
            ]
          },
          "metadata": {},
          "execution_count": 19
        }
      ],
      "source": [
        "MoveFileTool().args_schema.schema()"
      ]
    },
    {
      "cell_type": "code",
      "execution_count": null,
      "metadata": {
        "id": "Kz5J15J3bv08"
      },
      "outputs": [],
      "source": [
        "tools = [StockPriceTool]\n",
        "functions = [format_tool_to_openai_function(t) for t in tools]"
      ]
    },
    {
      "cell_type": "code",
      "execution_count": null,
      "metadata": {
        "colab": {
          "base_uri": "https://localhost:8080/"
        },
        "id": "ElmmJgpWi2ax",
        "outputId": "7f924eaf-c84a-42cf-e74e-1979c625d991"
      },
      "outputs": [
        {
          "output_type": "execute_result",
          "data": {
            "text/plain": [
              "{'name': 'GetStockTickerprice',\n",
              " 'description': 'Useful for when you need to find out the price of stock. You should input the stock ticker used on the yfinance API',\n",
              " 'parameters': {'properties': {'__arg1': {'title': '__arg1',\n",
              "    'type': 'string'}},\n",
              "  'required': ['__arg1'],\n",
              "  'type': 'object'}}"
            ]
          },
          "metadata": {},
          "execution_count": 21
        }
      ],
      "source": [
        "functions[0]"
      ]
    },
    {
      "cell_type": "code",
      "execution_count": null,
      "metadata": {
        "id": "KMtU1sWTbnZB"
      },
      "outputs": [],
      "source": [
        "ai_message = model.predict_messages([HumanMessage(content='What is the price of Google stock')], functions=functions)"
      ]
    },
    {
      "cell_type": "code",
      "execution_count": null,
      "metadata": {
        "colab": {
          "base_uri": "https://localhost:8080/"
        },
        "id": "pYvQ1boLbqi2",
        "outputId": "b7b0b5f3-60ff-4f77-d540-ea0b60de6c75"
      },
      "outputs": [
        {
          "output_type": "execute_result",
          "data": {
            "text/plain": [
              "AIMessage(content='', additional_kwargs={'function_call': {'name': 'GetStockTickerprice', 'arguments': '{\\n  \"__arg1\": \"GOOGL\"\\n}'}}, example=False)"
            ]
          },
          "metadata": {},
          "execution_count": 23
        }
      ],
      "source": [
        "ai_message"
      ]
    },
    {
      "cell_type": "code",
      "execution_count": null,
      "metadata": {
        "colab": {
          "base_uri": "https://localhost:8080/"
        },
        "id": "ANcp0LEIctol",
        "outputId": "6e1a98e2-4531-4c27-a959-d1ef4248dfeb"
      },
      "outputs": [
        {
          "output_type": "execute_result",
          "data": {
            "text/plain": [
              "{'name': 'GetStockTickerprice', 'arguments': '{\\n  \"__arg1\": \"GOOGL\"\\n}'}"
            ]
          },
          "metadata": {},
          "execution_count": 24
        }
      ],
      "source": [
        "ai_message.additional_kwargs['function_call']"
      ]
    },
    {
      "cell_type": "code",
      "execution_count": null,
      "metadata": {
        "colab": {
          "base_uri": "https://localhost:8080/"
        },
        "id": "VSpgKqFDgUJf",
        "outputId": "70761276-b772-4bf3-bcbd-68585f9fb673"
      },
      "outputs": [
        {
          "output_type": "execute_result",
          "data": {
            "text/plain": [
              "{'__arg1': 'GOOGL'}"
            ]
          },
          "metadata": {},
          "execution_count": 25
        }
      ],
      "source": [
        "import json\n",
        "_args = json.loads(ai_message.additional_kwargs['function_call'].get('arguments'))\n",
        "_args"
      ]
    },
    {
      "cell_type": "code",
      "execution_count": null,
      "metadata": {
        "colab": {
          "base_uri": "https://localhost:8080/"
        },
        "id": "PMQUp-Y5OIMH",
        "outputId": "d63b1a49-a3fb-479a-9b26-871c6fcf3b2f"
      },
      "outputs": [
        {
          "output_type": "execute_result",
          "data": {
            "text/plain": [
              "129.78"
            ]
          },
          "metadata": {},
          "execution_count": 26
        }
      ],
      "source": [
        "tool_result = tools[0](_args)\n",
        "tool_result"
      ]
    },
    {
      "cell_type": "code",
      "execution_count": null,
      "metadata": {
        "colab": {
          "base_uri": "https://localhost:8080/"
        },
        "id": "HSCjOF9fSRcM",
        "outputId": "b3c0606e-0079-4058-e393-3aba97b791f8"
      },
      "outputs": [
        {
          "output_type": "execute_result",
          "data": {
            "text/plain": [
              "FunctionMessage(content='129.78', additional_kwargs={}, name='get_stock_ticker_price')"
            ]
          },
          "metadata": {},
          "execution_count": 27
        }
      ],
      "source": [
        "FunctionMessage(name='get_stock_ticker_price',content=tool_result)"
      ]
    },
    {
      "cell_type": "code",
      "execution_count": null,
      "metadata": {
        "id": "n5dlRG48OUAk"
      },
      "outputs": [],
      "source": [
        "final_message = model.predict_messages([HumanMessage(content='What is the price of Google stock'),\n",
        "                                  ai_message,\n",
        "                                  FunctionMessage(name='get_stock_ticker_price',content=tool_result),\n",
        "                                  ], functions=functions)"
      ]
    },
    {
      "cell_type": "code",
      "execution_count": null,
      "metadata": {
        "colab": {
          "base_uri": "https://localhost:8080/"
        },
        "id": "AGDw7MfwQm2b",
        "outputId": "ed1b8240-1029-45c1-9d4c-18a63347f587"
      },
      "outputs": [
        {
          "output_type": "execute_result",
          "data": {
            "text/plain": [
              "AIMessage(content='The price of Google stock (GOOGL) is $129.78.', additional_kwargs={}, example=False)"
            ]
          },
          "metadata": {},
          "execution_count": 29
        }
      ],
      "source": [
        "final_message"
      ]
    },
    {
      "cell_type": "markdown",
      "metadata": {
        "id": "9vqB7Ag3Pa33"
      },
      "source": [
        "## Putting it together as an Agent"
      ]
    },
    {
      "cell_type": "code",
      "execution_count": null,
      "metadata": {
        "id": "ThsbsO3qPnfO"
      },
      "outputs": [],
      "source": [
        "llm = ChatOpenAI(temperature=0, model=\"gpt-3.5-turbo-0613\")"
      ]
    },
    {
      "cell_type": "code",
      "execution_count": null,
      "metadata": {
        "id": "0LKxJ6fcPeQf"
      },
      "outputs": [],
      "source": [
        "open_ai_agent = initialize_agent(tools,\n",
        "                        llm,\n",
        "                        agent=AgentType.OPENAI_FUNCTIONS,\n",
        "                        verbose=True)"
      ]
    },
    {
      "cell_type": "code",
      "execution_count": null,
      "metadata": {
        "colab": {
          "base_uri": "https://localhost:8080/",
          "height": 281
        },
        "id": "aAoc0zJ_PjIJ",
        "outputId": "3eec8d99-aa57-4149-94e7-14547434f31e"
      },
      "outputs": [
        {
          "output_type": "stream",
          "name": "stdout",
          "text": [
            "\n",
            "\n",
            "\u001b[1m> Entering new AgentExecutor chain...\u001b[0m\n",
            "\u001b[32;1m\u001b[1;3m\n",
            "Invoking: `GetStockTickerprice` with `GOOGL`\n",
            "\n",
            "\n",
            "\u001b[0m"
          ]
        },
        {
          "output_type": "stream",
          "name": "stderr",
          "text": [
            "WARNING:langchain.llms.base:Retrying langchain.chat_models.openai.ChatOpenAI.completion_with_retry.<locals>._completion_with_retry in 4.0 seconds as it raised RateLimitError: Rate limit reached for default-gpt-3.5-turbo in organization org-ulEN5vxIfSEw6rnP1MLpJlVR on requests per min. Limit: 3 / min. Please try again in 20s. Contact us through our help center at help.openai.com if you continue to have issues. Please add a payment method to your account to increase your rate limit. Visit https://platform.openai.com/account/billing to add a payment method..\n"
          ]
        },
        {
          "output_type": "stream",
          "name": "stdout",
          "text": [
            "\u001b[36;1m\u001b[1;3m129.78\u001b[0m"
          ]
        },
        {
          "output_type": "stream",
          "name": "stderr",
          "text": [
            "WARNING:langchain.llms.base:Retrying langchain.chat_models.openai.ChatOpenAI.completion_with_retry.<locals>._completion_with_retry in 4.0 seconds as it raised RateLimitError: Rate limit reached for default-gpt-3.5-turbo in organization org-ulEN5vxIfSEw6rnP1MLpJlVR on requests per min. Limit: 3 / min. Please try again in 20s. Contact us through our help center at help.openai.com if you continue to have issues. Please add a payment method to your account to increase your rate limit. Visit https://platform.openai.com/account/billing to add a payment method..\n",
            "WARNING:langchain.llms.base:Retrying langchain.chat_models.openai.ChatOpenAI.completion_with_retry.<locals>._completion_with_retry in 4.0 seconds as it raised RateLimitError: Rate limit reached for default-gpt-3.5-turbo in organization org-ulEN5vxIfSEw6rnP1MLpJlVR on requests per min. Limit: 3 / min. Please try again in 20s. Contact us through our help center at help.openai.com if you continue to have issues. Please add a payment method to your account to increase your rate limit. Visit https://platform.openai.com/account/billing to add a payment method..\n"
          ]
        },
        {
          "output_type": "stream",
          "name": "stdout",
          "text": [
            "\u001b[32;1m\u001b[1;3mThe current price of Google stock (GOOGL) is $129.78.\u001b[0m\n",
            "\n",
            "\u001b[1m> Finished chain.\u001b[0m\n"
          ]
        },
        {
          "output_type": "execute_result",
          "data": {
            "text/plain": [
              "'The current price of Google stock (GOOGL) is $129.78.'"
            ],
            "application/vnd.google.colaboratory.intrinsic+json": {
              "type": "string"
            }
          },
          "metadata": {},
          "execution_count": 32
        }
      ],
      "source": [
        "open_ai_agent.run(\"What is the price of Google stock?\")"
      ]
    },
    {
      "cell_type": "markdown",
      "metadata": {
        "id": "lohFBZ5HdbcR"
      },
      "source": [
        "## Multiple Tools"
      ]
    },
    {
      "cell_type": "code",
      "execution_count": null,
      "metadata": {
        "colab": {
          "base_uri": "https://localhost:8080/"
        },
        "id": "-HSx3t8QTyKj",
        "outputId": "ac47105a-e4df-4979-a58b-969b51c897e9"
      },
      "outputs": [
        {
          "output_type": "stream",
          "name": "stdout",
          "text": [
            "-9.19\n"
          ]
        }
      ],
      "source": [
        "from datetime import datetime, timedelta\n",
        "\n",
        "def get_price_change_percent(symbol, days_ago):\n",
        "    ticker = yf.Ticker(symbol)\n",
        "\n",
        "    # Get today's date\n",
        "    end_date = datetime.now()\n",
        "\n",
        "    # Get the date N days ago\n",
        "    start_date = end_date - timedelta(days=days_ago)\n",
        "\n",
        "    # Convert dates to string format that yfinance can accept\n",
        "    start_date = start_date.strftime('%Y-%m-%d')\n",
        "    end_date = end_date.strftime('%Y-%m-%d')\n",
        "\n",
        "    # Get the historical data\n",
        "    historical_data = ticker.history(start=start_date, end=end_date)\n",
        "\n",
        "    # Get the closing price N days ago and today's closing price\n",
        "    old_price = historical_data['Close'].iloc[0]\n",
        "    new_price = historical_data['Close'].iloc[-1]\n",
        "\n",
        "    # Calculate the percentage change\n",
        "    percent_change = ((new_price - old_price) / old_price) * 100\n",
        "\n",
        "    return round(percent_change, 2)\n",
        "\n",
        "# Use the function\n",
        "print(get_price_change_percent('AAPL', 30))  # for 30 days ago\n"
      ]
    },
    {
      "cell_type": "code",
      "execution_count": null,
      "metadata": {
        "colab": {
          "base_uri": "https://localhost:8080/"
        },
        "id": "r-GTzpC9VOEM",
        "outputId": "ab5c9b62-7f0d-40ba-c041-6d228d99c009"
      },
      "outputs": [
        {
          "output_type": "stream",
          "name": "stdout",
          "text": [
            "The best performing stock over the past 90 days is GOOG with a performance of 4.64%\n"
          ]
        }
      ],
      "source": [
        "import yfinance as yf\n",
        "from datetime import datetime, timedelta\n",
        "\n",
        "def calculate_performance(symbol, days_ago):\n",
        "    ticker = yf.Ticker(symbol)\n",
        "    end_date = datetime.now()\n",
        "    start_date = end_date - timedelta(days=days_ago)\n",
        "    start_date = start_date.strftime('%Y-%m-%d')\n",
        "    end_date = end_date.strftime('%Y-%m-%d')\n",
        "    historical_data = ticker.history(start=start_date, end=end_date)\n",
        "    old_price = historical_data['Close'].iloc[0]\n",
        "    new_price = historical_data['Close'].iloc[-1]\n",
        "    percent_change = ((new_price - old_price) / old_price) * 100\n",
        "    return round(percent_change, 2)\n",
        "\n",
        "def get_best_performing(stocks, days_ago):\n",
        "    best_stock = None\n",
        "    best_performance = None\n",
        "    for stock in stocks:\n",
        "        try:\n",
        "            performance = calculate_performance(stock, days_ago)\n",
        "            if best_performance is None or performance > best_performance:\n",
        "                best_stock = stock\n",
        "                best_performance = performance\n",
        "        except Exception as e:\n",
        "            print(f\"Could not calculate performance for {stock}: {e}\")\n",
        "    return best_stock, best_performance\n",
        "\n",
        "stocks = ['AAPL', 'MSFT', 'GOOG']\n",
        "days_ago = 90  # change as desired\n",
        "\n",
        "best_stock, best_performance = get_best_performing(stocks, days_ago)\n",
        "print(f\"The best performing stock over the past {days_ago} days is {best_stock} with a performance of {best_performance}%\")\n"
      ]
    },
    {
      "cell_type": "markdown",
      "metadata": {
        "id": "itlzbGZ5hTDx"
      },
      "source": [
        "### Make the Tools"
      ]
    },
    {
      "cell_type": "code",
      "execution_count": null,
      "metadata": {
        "id": "74147GgQP0fd"
      },
      "outputs": [],
      "source": [
        "from typing import List\n",
        "\n",
        "\n",
        "class StockChangePercentageCheckInput(BaseModel):\n",
        "    \"\"\"Input for Stock ticker check. for percentage check\"\"\"\n",
        "\n",
        "    stockticker: str = Field(..., description=\"Ticker symbol for stock or index\")\n",
        "    days_ago: int = Field(..., description=\"Int number of days to look back\")\n",
        "\n",
        "class StockPercentageChangeTool(BaseTool):\n",
        "    name = \"get_price_change_percent\"\n",
        "    description = \"Useful for when you need to find out the percentage change in a stock's value. You should input the stock ticker used on the yfinance API and also input the number of days to check the change over\"\n",
        "\n",
        "    def _run(self, stockticker: str, days_ago: int):\n",
        "        price_change_response = get_price_change_percent(stockticker, days_ago)\n",
        "\n",
        "        return price_change_response\n",
        "\n",
        "    def _arun(self, stockticker: str, days_ago: int):\n",
        "        raise NotImplementedError(\"This tool does not support async\")\n",
        "\n",
        "    args_schema: Optional[Type[BaseModel]] = StockChangePercentageCheckInput\n",
        "\n",
        "\n",
        "# the best performing\n",
        "\n",
        "class StockBestPerformingInput(BaseModel):\n",
        "    \"\"\"Input for Stock ticker check. for percentage check\"\"\"\n",
        "\n",
        "    stocktickers: List[str] = Field(..., description=\"Ticker symbols for stocks or indices\")\n",
        "    days_ago: int = Field(..., description=\"Int number of days to look back\")\n",
        "\n",
        "class StockGetBestPerformingTool(BaseTool):\n",
        "    name = \"get_best_performing\"\n",
        "    description = \"Useful for when you need to the performance of multiple stocks over a period. You should input a list of stock tickers used on the yfinance API and also input the number of days to check the change over\"\n",
        "\n",
        "    def _run(self, stocktickers: List[str], days_ago: int):\n",
        "        price_change_response = get_best_performing(stocktickers, days_ago)\n",
        "\n",
        "        return price_change_response\n",
        "\n",
        "    def _arun(self, stockticker: List[str], days_ago: int):\n",
        "        raise NotImplementedError(\"This tool does not support async\")\n",
        "\n",
        "    args_schema: Optional[Type[BaseModel]] = StockBestPerformingInput\n",
        "from typing import List\n",
        "from pydantic import BaseModel, Field\n",
        "from typing import Optional, Type\n",
        "import math\n",
        "import random  # Import random to generate random allocation percentages\n",
        "class InvestmentPlanInput(BaseModel):\n",
        "    \"\"\"Input for creating an investment plan\"\"\"\n",
        "\n",
        "    timeframe_years: float = Field(..., description=\"How many years do you plan to save for buying a house?\")\n",
        "    risk_tolerance: str = Field(..., description=\"Your risk tolerance: 'high' or 'low'\")\n",
        "    investment_amount: float = Field(..., description=\"How much money are you planning to invest towards buying a house?\")\n",
        "\n",
        "class InvestmentPlanTool(BaseTool):\n",
        "    name = \"create_investment_plan\"\n",
        "    description = \"Generate an investment plan based on your goals, risk tolerance, and investment amount.\"\n",
        "\n",
        "    def _run(self, timeframe_years: int, risk_tolerance: str, investment_amount: float):\n",
        "        # Generate stock tickers with allocation percentages based on risk tolerance\n",
        "        selected_stocks, allocation_percentages = generate_stock_tickers_with_allocation(risk_tolerance)\n",
        "\n",
        "        # Calculate allocation amounts based on investment amount and allocation percentages\n",
        "        allocation_amounts = [investment_amount * percentage / 100 for percentage in allocation_percentages]\n",
        "\n",
        "        # Create an investment plan\n",
        "        investment_plan = {\n",
        "            \"Client Information\": {\n",
        "                \"Full Name\": \"\",\n",
        "                \"Date of Birth\": \"\",\n",
        "                \"Contact Information\": \"\",\n",
        "                \"Marital Status\": \"\",\n",
        "                \"Dependents\": \"\",\n",
        "            },\n",
        "            \"Financial Goals\": [\n",
        "                {\n",
        "                    \"Goal\": \"\",\n",
        "                    \"Target Amount\": 0,\n",
        "                    \"Time Horizon\": \"\",\n",
        "                    \"Risk Tolerance\": \"\",\n",
        "                },\n",
        "                {\n",
        "                    \"Goal\": \"\",\n",
        "                    \"Target Amount\": 0,\n",
        "                    \"Time Horizon\": \"\",\n",
        "                    \"Risk Tolerance\": \"\",\n",
        "                },\n",
        "                {\n",
        "                    \"Goal\": \"\",\n",
        "                    \"Target Amount\": 0,\n",
        "                    \"Time Horizon\": \"\",\n",
        "                    \"Risk Tolerance\": \"\",\n",
        "                },\n",
        "            ],\n",
        "            \"Risk Tolerance Assessment\": risk_tolerance,\n",
        "            \"Current Financial Situation\": {\n",
        "                \"Income\": 0,\n",
        "                \"Expenses\": 0,\n",
        "                \"Total Assets\": 0,\n",
        "                \"Total Liabilities\": 0,\n",
        "                \"Net Worth\": 0,\n",
        "            },\n",
        "            \"Tax Considerations\": {\n",
        "                \"Current Tax Bracket\": 0,\n",
        "                \"Tax-Advantaged Accounts\": \"\",\n",
        "                \"Tax-Efficient Investment Strategies\": \"\",\n",
        "            },\n",
        "            \"Investment Portfolio Strategy\": {\n",
        "                \"Asset Allocation\": {\n",
        "                    \"% Stocks\": 0,\n",
        "                    \"% Bonds\": 0,\n",
        "                    \"% Other\": 0,\n",
        "                },\n",
        "                \"Diversification\": \"\",\n",
        "                \"Liquidity Needs\": \"\",\n",
        "                \"Investment Knowledge\": \"\",\n",
        "            },\n",
        "            \"Economic and Market Analysis\": {\n",
        "                \"Current Economic Conditions\": \"\",\n",
        "                \"Market Trends\": \"\",\n",
        "                \"Interest Rate Environment\": \"\",\n",
        "            },\n",
        "            \"Costs and Fees\": {\n",
        "                \"Investment Management Fees\": 0,\n",
        "                \"Trading Costs\": 0,\n",
        "                \"Tax Implications\": \"\",\n",
        "            },\n",
        "            \"Ethical and Social Values\": \"\",\n",
        "            \"Emergency Fund\": {\n",
        "                \"Current Emergency Fund Balance\": 0,\n",
        "                \"Recommended Emergency Fund\": 0,\n",
        "            },\n",
        "            \"Insurance Coverage\": {\n",
        "                \"Health Insurance\": \"\",\n",
        "                \"Life Insurance\": \"\",\n",
        "                \"Disability Insurance\": \"\",\n",
        "            },\n",
        "            \"Review and Monitoring Plan\": {\n",
        "                \"Frequency of Portfolio Review\": \"\",\n",
        "                \"Criteria for Portfolio Rebalancing\": \"\",\n",
        "                \"Communication Plan\": \"\",\n",
        "            },\n",
        "            \"Exit Strategy\": {\n",
        "\n",
        "                \"Under what circumstances should investments be sold or adjusted?\": \"\",\n",
        "                \"How will you handle market downturns or changes in client goals?\": \"\",\n",
        "            },\n",
        "            \"Additional Notes\": \"\",\n",
        "            \"Next Steps\": \"Based on the information provided, outline specific investment recommendations and strategies tailored to the client's goals, risk tolerance, and financial situation.\",\n",
        "            \"Disclaimer\": \"Include a disclaimer outlining that this plan is for informational purposes only and not a guarantee of investment performance. Encourage the client to consult with a qualified financial advisor.\",\n",
        "        }\n",
        "\n",
        "        # Fill in the investment plan with actual data\n",
        "        investment_plan[\"Financial Goals\"][0][\"Goal\"] = \"Goal 1\"\n",
        "        investment_plan[\"Financial Goals\"][0][\"Target Amount\"] = 100000\n",
        "        investment_plan[\"Financial Goals\"][0][\"Time Horizon\"] = \"5 years\"\n",
        "        investment_plan[\"Financial Goals\"][0][\"Risk Tolerance\"] = risk_tolerance\n",
        "\n",
        "        # Fill in the rest of the data...\n",
        "\n",
        "        return investment_plan\n",
        "\n",
        "    def _arun(self, timeframe_years: int, risk_tolerance: str, investment_amount: float):\n",
        "        raise NotImplementedError(\"This tool does not support async\")\n",
        "\n",
        "    args_schema: Optional[Type[BaseModel]] = InvestmentPlanInput\n",
        "\n",
        "\n",
        "# Define a function to generate stock tickers with allocation percentages\n",
        "def generate_stock_tickers_with_allocation(risk_tolerance: str):\n",
        "    # Replace this with your logic to generate stock tickers and allocation percentages\n",
        "    indian_stocks_high_risk = ['RELIANCE', 'TCS', 'HDFCBANK', 'INFY', 'ICICIBANK', 'HINDUNILVR', 'KOTAKBANK', 'ITC']\n",
        "    indian_stocks_low_risk = ['ITC', 'HDFCBANK', 'TCS', 'INFY']\n",
        "\n",
        "    if risk_tolerance.lower() == 'high':\n",
        "        selected_stocks = indian_stocks_high_risk\n",
        "        allocation_percentages = [random.uniform(0, 1) for _ in selected_stocks]\n",
        "    elif risk_tolerance.lower() == 'low':\n",
        "        selected_stocks = indian_stocks_low_risk\n",
        "        allocation_percentages = [random.uniform(0, 1) for _ in selected_stocks]\n",
        "    else:\n",
        "        raise ValueError(\"Invalid risk tolerance. Use 'high' or 'low'.\")\n",
        "\n",
        "    total_allocation = sum(allocation_percentages)\n",
        "    allocation_percentages = [percentage / total_allocation * 100 for percentage in allocation_percentages]\n",
        "\n",
        "    return selected_stocks, allocation_percentages\n",
        "import pdfplumber\n",
        "from typing import List, Optional, Type\n",
        "from pydantic import BaseModel, Field\n",
        "\n",
        "class Expense(BaseModel):\n",
        "    name: str\n",
        "    amount: float\n",
        "\n",
        "class BudgetInput(BaseModel):\n",
        "    \"\"\"Input for creating a budget plan\"\"\"\n",
        "    income: float = Field(..., description=\"Your monthly income\")\n",
        "    expenses: List[Expense] = Field(..., description=\"List of monthly expenses\")\n",
        "\n",
        "class BudgetPlannerTool(BaseTool):\n",
        "    name = \"create_budget_plan\"\n",
        "    description = \"Generate a budget plan based on your income, expenses, and financial statements from a PDF .\"\n",
        "\n",
        "    def _run(self, income: float, expenses: List[Expense]):\n",
        "        # Calculate the remaining budget based on income and expenses\n",
        "        remaining_budget = income - sum(expense['amount'] for expense in expenses)\n",
        "\n",
        "        # Create the budget plan template with filled-in information\n",
        "       # Create the budget plan dictionary\n",
        "        budget_plan = {\n",
        "    \"income\": income,\n",
        "    \"expenses\":[\n",
        "    {\n",
        "        \"Expense Name\": expense['name'],\n",
        "        \"Amount\": f\"${expense['amount']}\",\n",
        "    }\n",
        "    for expense in expenses\n",
        "],\n",
        "    \"total_fixed_expenses\": sum(expense['amount'] for expense in expenses[0:6]),\n",
        "    \"total_variable_expenses\": None,  # Fill in the actual values for variable expenses\n",
        "    \"savings_and_debt_repayment\": {\n",
        "        \"savings\": None,  # Fill in the actual value for savings\n",
        "        \"debt_repayment\": None,  # Fill in the actual value for debt repayment\n",
        "    },\n",
        "    \"investments\": {\n",
        "        \"investment_contributions\": None,  # Fill in the actual value for investment contributions\n",
        "    },\n",
        "    \"taxes\": {\n",
        "        \"estimated_tax_payments\": None,  # Fill in the actual value for estimated tax payments\n",
        "    },\n",
        "    \"one_time_and_irregular_expenses\": {\n",
        "        \"vehicle_maintenance\": None,  # Fill in the actual value for vehicle maintenance\n",
        "        \"gifts\": None,  # Fill in the actual value for gifts\n",
        "        \"vacation\": None,  # Fill in the actual value for vacation\n",
        "        \"home_repairs\": None,  # Fill in the actual value for home repairs\n",
        "        \"other_irregular_expenses\": None,  # Fill in the actual value for other irregular expenses\n",
        "    },\n",
        "    \"entertainment_and_discretionary_spending\": {\n",
        "        \"entertainment_hobbies\": None,  # Fill in the actual value for entertainment/hobbies\n",
        "        \"discretionary_spending\": None,  # Fill in the actual value for discretionary spending\n",
        "    },\n",
        "    \"review_and_adjust\": {\n",
        "        \"actual_income\": income,\n",
        "        \"actual_expenses\": None,  # Fill in the actual value for actual expenses\n",
        "        \"difference\": remaining_budget,\n",
        "    },\n",
        "    \"financial_goals\": {\n",
        "        \"goal_1\": None,  # Fill in the actual value for goal 1\n",
        "        \"goal_2\": None,  # Fill in the actual value for goal 2\n",
        "        \"goal_3\": None,  # Fill in the actual value for goal 3\n",
        "    },\n",
        "    \"contingency\": {\n",
        "        \"contingency_fund\": None,  # Fill in the actual value for the contingency fund\n",
        "    },\n",
        "    \"budgeting_tools\": {\n",
        "        \"budgeting_software_apps_used\": None,  # Fill in the actual value for budgeting software/apps used\n",
        "    },\n",
        "    \"long_term_planning\": {\n",
        "        \"long_term_financial_goals\": None,  # Fill in the actual value for long-term financial goals\n",
        "    },\n",
        "    \"financial_education\": {\n",
        "        \"financial_books_websites_resources\": None,  # Fill in the actual value for financial books/websites/resources\n",
        "    }\n",
        "}\n",
        "\n",
        "\n",
        "\n",
        "        # Print the budget plan template\n",
        "        return budget_plan\n",
        "\n",
        "    args_schema: Optional[Type[BaseModel]] = BudgetInput\n",
        "\n"
      ]
    },
    {
      "cell_type": "code",
      "execution_count": null,
      "metadata": {
        "id": "HZGvX8_t2bXY"
      },
      "outputs": [],
      "source": [
        "from typing import List, Optional, Type\n",
        "from pydantic import BaseModel, Field\n",
        "\n",
        "class Debt(BaseModel):\n",
        "    name: str\n",
        "    amount: float\n",
        "    interest_rate: float\n",
        "\n",
        "class DebtManagementInput(BaseModel):\n",
        "    \"\"\"Input for creating a debt management plan\"\"\"\n",
        "    monthly_payment: float = Field(..., description=\"Your monthly payment capacity\")\n",
        "    debts: List[Debt] = Field(..., description=\"List of debts\")\n",
        "\n",
        "class DebtPlanItem(BaseModel):\n",
        "    name: str\n",
        "    monthly_payment: float\n",
        "    interest_payment: float\n",
        "    principal_payment: float\n",
        "    remaining_debt: float\n",
        "\n",
        "class DebtManagementPlannerTool(BaseTool):\n",
        "    name = \"create_debt_management_plan\"\n",
        "    description = \"Generate a debt management plan based on your monthly payment capacity and debts. Also, mention how to pay the remaining debt.\"\n",
        "\n",
        "    def _run(self, monthly_payment: float, debts: List[Debt]) -> dict:\n",
        "        debt_plan = []\n",
        "        remaining_payment = monthly_payment\n",
        "\n",
        "        for debt in debts:\n",
        "            # Replace debt.something with debt['something']\n",
        "            name = debt['name']\n",
        "            amount = debt['amount']\n",
        "            interest_rate = debt['interest_rate']\n",
        "\n",
        "            interest_payment = amount * (interest_rate / 100)\n",
        "            principal_payment = min(remaining_payment, monthly_payment - interest_payment)\n",
        "            remaining_payment -= principal_payment\n",
        "\n",
        "            debt_plan.append(DebtPlanItem(\n",
        "                name=name,\n",
        "                monthly_payment=monthly_payment,\n",
        "                interest_payment=interest_payment,\n",
        "                principal_payment=principal_payment,\n",
        "                remaining_debt=amount - principal_payment,\n",
        "            ))\n",
        "\n",
        "        # Create a dictionary structure matching the template\n",
        "        debt_management_plan = {\n",
        "            \"Personal Information\": {\n",
        "                \"Name\": \"\",\n",
        "                \"Address\": \"\",\n",
        "                \"Phone Number\": \"\",\n",
        "                \"Email\": \"\",\n",
        "            },\n",
        "            \"Financial Goals\": {\n",
        "                \"Short-term (e.g., 6 months)\": \"\",\n",
        "                \"Medium-term (e.g., 1-2 years)\": \"\",\n",
        "                \"Long-term (e.g., 5 years or more)\": \"\",\n",
        "            },\n",
        "            \"Assessment of Current Debt\": [\n",
        "                {\n",
        "                    \"Creditor\": debt['name'],\n",
        "                    \"Balance\": f\"${debt['amount']}\",\n",
        "                    \"Interest Rate\": f\"{debt['interest_rate']}%\",\n",
        "                    \"Minimum Payment\": \"\",\n",
        "                }\n",
        "                for debt in debts\n",
        "            ],\n",
        "            \"Monthly Budget\": {\n",
        "                \"Total Monthly Income\": \"\",\n",
        "                \"Total Monthly Expenses\": \"\",\n",
        "                \"Disposable Income (Income - Expenses)\": \"\",\n",
        "            },\n",
        "            \"Debt Repayment Plan\": {\n",
        "                \"Priority (High-interest first or Smallest balance first)\": \"\",\n",
        "                \"Debt Repayment Strategy (e.g., Debt Snowball, Debt Avalanche)\": \"\",\n",
        "                \"Monthly Debt Repayment Budget\": f\"${monthly_payment}\",\n",
        "            },\n",
        "            \"Negotiation and Consolidation\": [\n",
        "                \"\",\n",
        "                \"\",\n",
        "                \"\",\n",
        "            ],\n",
        "            \"Emergency Fund\": {\n",
        "                \"Goal Amount\": \"\",\n",
        "                \"Progress\": \"\",\n",
        "            },\n",
        "            \"Additional Notes\": [\n",
        "                \"\",\n",
        "                \"\",\n",
        "            ],\n",
        "            \"Review and Adjustments\": [\n",
        "                \"\",\n",
        "                \"\",\n",
        "            ],\n",
        "            \"Professional Assistance\": \"Yes / No\",\n",
        "            \"Legal Considerations\": \"Yes / No\",\n",
        "        }\n",
        "\n",
        "        # Merge the two dictionaries\n",
        "        merged_plan = {\"DebtPlan\": debt_plan, \"DebtManagementPlan\": debt_management_plan}\n",
        "        return merged_plan\n",
        "\n",
        "    args_schema: Optional[Type[BaseModel]] = DebtManagementInput\n"
      ]
    },
    {
      "cell_type": "code",
      "execution_count": null,
      "metadata": {
        "id": "lwIYibQfTlTV"
      },
      "outputs": [],
      "source": [
        "from datetime import date\n",
        "class TodayDateInput(BaseModel):\n",
        "    \"\"\"Not needed\"\"\"\n",
        "\n",
        "class TodayDateTool(BaseTool):\n",
        "    name = \"get_today_date\"\n",
        "    description = \"A tool for getting today's date.\"\n",
        "\n",
        "    def _run(self):\n",
        "        return date.today()\n",
        "    args_schema: Optional[Type[BaseModel]] = TodayDateInput\n"
      ]
    },
    {
      "cell_type": "code",
      "execution_count": null,
      "metadata": {
        "id": "SK9yuhQ9evMl"
      },
      "outputs": [],
      "source": [
        "tools = [StockPriceTool,StockPercentageChangeTool(), StockGetBestPerformingTool(),InvestmentPlanTool(), BudgetPlannerTool(),DebtManagementPlannerTool(),TodayDateTool(),DUCKSEARCH]\n",
        "\n",
        "functions = [format_tool_to_openai_function(t) for t in tools]"
      ]
    },
    {
      "cell_type": "code",
      "execution_count": null,
      "metadata": {
        "colab": {
          "base_uri": "https://localhost:8080/"
        },
        "id": "igqJ4T73e4b1",
        "outputId": "1dc9f3e2-7323-45f3-d939-0b9a543fec3b"
      },
      "outputs": [
        {
          "output_type": "execute_result",
          "data": {
            "text/plain": [
              "[Tool(name='GetStockTickerprice', description='Useful for when you need to find out the price of stock. You should input the stock ticker used on the yfinance API', args_schema=None, return_direct=False, verbose=False, callbacks=None, callback_manager=None, tags=None, metadata=None, handle_tool_error=False, func=<function get_stock_price at 0x7b04518ed990>, coroutine=None),\n",
              " StockPercentageChangeTool(name='get_price_change_percent', description=\"Useful for when you need to find out the percentage change in a stock's value. You should input the stock ticker used on the yfinance API and also input the number of days to check the change over\", args_schema=<class '__main__.StockChangePercentageCheckInput'>, return_direct=False, verbose=False, callbacks=None, callback_manager=None, tags=None, metadata=None, handle_tool_error=False),\n",
              " StockGetBestPerformingTool(name='get_best_performing', description='Useful for when you need to the performance of multiple stocks over a period. You should input a list of stock tickers used on the yfinance API and also input the number of days to check the change over', args_schema=<class '__main__.StockBestPerformingInput'>, return_direct=False, verbose=False, callbacks=None, callback_manager=None, tags=None, metadata=None, handle_tool_error=False),\n",
              " InvestmentPlanTool(name='create_investment_plan', description='Generate an investment plan based on your goals, risk tolerance, and investment amount.', args_schema=<class '__main__.InvestmentPlanInput'>, return_direct=False, verbose=False, callbacks=None, callback_manager=None, tags=None, metadata=None, handle_tool_error=False),\n",
              " BudgetPlannerTool(name='create_budget_plan', description='Generate a budget plan based on your income, expenses, and financial statements from a PDF .', args_schema=<class '__main__.BudgetInput'>, return_direct=False, verbose=False, callbacks=None, callback_manager=None, tags=None, metadata=None, handle_tool_error=False),\n",
              " DebtManagementPlannerTool(name='create_debt_management_plan', description='Generate a debt management plan based on your monthly payment capacity and debts. Also, mention how to pay the remaining debt.', args_schema=<class '__main__.DebtManagementInput'>, return_direct=False, verbose=False, callbacks=None, callback_manager=None, tags=None, metadata=None, handle_tool_error=False),\n",
              " TodayDateTool(name='get_today_date', description=\"A tool for getting today's date.\", args_schema=<class '__main__.TodayDateInput'>, return_direct=False, verbose=False, callbacks=None, callback_manager=None, tags=None, metadata=None, handle_tool_error=False),\n",
              " Tool(name='search', description='useful for when you need to answer questions about current events. You should ask targeted questions', args_schema=None, return_direct=False, verbose=False, callbacks=None, callback_manager=None, tags=None, metadata=None, handle_tool_error=False, func=<bound method BaseTool.run of DuckDuckGoSearchRun(name='duckduckgo_search', description='A wrapper around DuckDuckGo Search. Useful for when you need to answer questions about current events. Input should be a search query.', args_schema=None, return_direct=False, verbose=False, callbacks=None, callback_manager=None, tags=None, metadata=None, handle_tool_error=False, api_wrapper=DuckDuckGoSearchAPIWrapper(region='wt-wt', safesearch='moderate', time='y', max_results=5))>, coroutine=None)]"
            ]
          },
          "metadata": {},
          "execution_count": 39
        }
      ],
      "source": [
        "tools"
      ]
    },
    {
      "cell_type": "code",
      "execution_count": null,
      "metadata": {
        "id": "JZiw1RsTe_ch"
      },
      "outputs": [],
      "source": [
        "llm = ChatOpenAI(temperature=0, model=\"gpt-3.5-turbo-16k\")"
      ]
    },
    {
      "cell_type": "code",
      "execution_count": null,
      "metadata": {
        "id": "3JbZwLwzpanP"
      },
      "outputs": [],
      "source": [
        "from langchain.prompts import MessagesPlaceholder\n",
        "from langchain.memory import ConversationBufferMemory\n",
        "\n",
        "agent_kwargs = {\n",
        "    \"extra_prompt_messages\": [MessagesPlaceholder(variable_name=\"memory\")],\n",
        "}\n",
        "memory = ConversationBufferMemory(memory_key=\"memory\", return_messages=True)"
      ]
    },
    {
      "cell_type": "code",
      "execution_count": null,
      "metadata": {
        "id": "tjz2mhGVs4LA"
      },
      "outputs": [],
      "source": []
    },
    {
      "cell_type": "code",
      "execution_count": null,
      "metadata": {
        "id": "K_XbiPuve_ci"
      },
      "outputs": [],
      "source": [
        "agent = initialize_agent(\n",
        "    tools,\n",
        "    llm,\n",
        "    agent=AgentType.OPENAI_FUNCTIONS,\n",
        "    verbose=True,\n",
        "    agent_kwargs=agent_kwargs,\n",
        "    memory=memory,\n",
        ")"
      ]
    },
    {
      "cell_type": "code",
      "execution_count": null,
      "metadata": {
        "id": "4YArEbHTe_ci",
        "colab": {
          "base_uri": "https://localhost:8080/",
          "height": 602
        },
        "outputId": "f5e09e87-93a4-41ce-a175-1424ff44ed7e"
      },
      "outputs": [
        {
          "output_type": "stream",
          "name": "stdout",
          "text": [
            "\n",
            "\n",
            "\u001b[1m> Entering new AgentExecutor chain...\u001b[0m\n"
          ]
        },
        {
          "output_type": "stream",
          "name": "stderr",
          "text": [
            "WARNING:langchain.llms.base:Retrying langchain.chat_models.openai.ChatOpenAI.completion_with_retry.<locals>._completion_with_retry in 4.0 seconds as it raised RateLimitError: Rate limit reached for default-gpt-3.5-turbo in organization org-ulEN5vxIfSEw6rnP1MLpJlVR on requests per min. Limit: 3 / min. Please try again in 20s. Contact us through our help center at help.openai.com if you continue to have issues. Please add a payment method to your account to increase your rate limit. Visit https://platform.openai.com/account/billing to add a payment method..\n",
            "WARNING:langchain.llms.base:Retrying langchain.chat_models.openai.ChatOpenAI.completion_with_retry.<locals>._completion_with_retry in 4.0 seconds as it raised RateLimitError: Rate limit reached for default-gpt-3.5-turbo in organization org-ulEN5vxIfSEw6rnP1MLpJlVR on requests per min. Limit: 3 / min. Please try again in 20s. Contact us through our help center at help.openai.com if you continue to have issues. Please add a payment method to your account to increase your rate limit. Visit https://platform.openai.com/account/billing to add a payment method..\n",
            "WARNING:langchain.llms.base:Retrying langchain.chat_models.openai.ChatOpenAI.completion_with_retry.<locals>._completion_with_retry in 4.0 seconds as it raised RateLimitError: Rate limit reached for default-gpt-3.5-turbo in organization org-ulEN5vxIfSEw6rnP1MLpJlVR on requests per min. Limit: 3 / min. Please try again in 20s. Contact us through our help center at help.openai.com if you continue to have issues. Please add a payment method to your account to increase your rate limit. Visit https://platform.openai.com/account/billing to add a payment method..\n",
            "WARNING:langchain.llms.base:Retrying langchain.chat_models.openai.ChatOpenAI.completion_with_retry.<locals>._completion_with_retry in 8.0 seconds as it raised RateLimitError: Rate limit reached for default-gpt-3.5-turbo in organization org-ulEN5vxIfSEw6rnP1MLpJlVR on requests per min. Limit: 3 / min. Please try again in 20s. Contact us through our help center at help.openai.com if you continue to have issues. Please add a payment method to your account to increase your rate limit. Visit https://platform.openai.com/account/billing to add a payment method..\n",
            "WARNING:langchain.llms.base:Retrying langchain.chat_models.openai.ChatOpenAI.completion_with_retry.<locals>._completion_with_retry in 4.0 seconds as it raised RateLimitError: Rate limit reached for default-gpt-3.5-turbo in organization org-ulEN5vxIfSEw6rnP1MLpJlVR on requests per min. Limit: 3 / min. Please try again in 20s. Contact us through our help center at help.openai.com if you continue to have issues. Please add a payment method to your account to increase your rate limit. Visit https://platform.openai.com/account/billing to add a payment method..\n"
          ]
        },
        {
          "output_type": "stream",
          "name": "stdout",
          "text": [
            "\u001b[32;1m\u001b[1;3m\n",
            "Invoking: `create_budget_plan` with `{'income': 40000, 'expenses': [{'name': 'House Rent', 'amount': 15000}, {'name': 'Food', 'amount': 5000}, {'name': 'Travelling', 'amount': 3000}, {'name': 'Miscellaneous', 'amount': 2000}]}`\n",
            "\n",
            "\n",
            "\u001b[0m\u001b[33;1m\u001b[1;3m{'income': 40000.0, 'expenses': [{'Expense Name': 'House Rent', 'Amount': '$15000.0'}, {'Expense Name': 'Food', 'Amount': '$5000.0'}, {'Expense Name': 'Travelling', 'Amount': '$3000.0'}, {'Expense Name': 'Miscellaneous', 'Amount': '$2000.0'}], 'total_fixed_expenses': 25000.0, 'total_variable_expenses': None, 'savings_and_debt_repayment': {'savings': None, 'debt_repayment': None}, 'investments': {'investment_contributions': None}, 'taxes': {'estimated_tax_payments': None}, 'one_time_and_irregular_expenses': {'vehicle_maintenance': None, 'gifts': None, 'vacation': None, 'home_repairs': None, 'other_irregular_expenses': None}, 'entertainment_and_discretionary_spending': {'entertainment_hobbies': None, 'discretionary_spending': None}, 'review_and_adjust': {'actual_income': 40000.0, 'actual_expenses': None, 'difference': 15000.0}, 'financial_goals': {'goal_1': None, 'goal_2': None, 'goal_3': None}, 'contingency': {'contingency_fund': None}, 'budgeting_tools': {'budgeting_software_apps_used': None}, 'long_term_planning': {'long_term_financial_goals': None}, 'financial_education': {'financial_books_websites_resources': None}}\u001b[0m"
          ]
        },
        {
          "output_type": "stream",
          "name": "stderr",
          "text": [
            "WARNING:langchain.llms.base:Retrying langchain.chat_models.openai.ChatOpenAI.completion_with_retry.<locals>._completion_with_retry in 4.0 seconds as it raised RateLimitError: Rate limit reached for default-gpt-3.5-turbo in organization org-ulEN5vxIfSEw6rnP1MLpJlVR on requests per min. Limit: 3 / min. Please try again in 20s. Contact us through our help center at help.openai.com if you continue to have issues. Please add a payment method to your account to increase your rate limit. Visit https://platform.openai.com/account/billing to add a payment method..\n",
            "WARNING:langchain.llms.base:Retrying langchain.chat_models.openai.ChatOpenAI.completion_with_retry.<locals>._completion_with_retry in 4.0 seconds as it raised RateLimitError: Rate limit reached for default-gpt-3.5-turbo in organization org-ulEN5vxIfSEw6rnP1MLpJlVR on requests per min. Limit: 3 / min. Please try again in 20s. Contact us through our help center at help.openai.com if you continue to have issues. Please add a payment method to your account to increase your rate limit. Visit https://platform.openai.com/account/billing to add a payment method..\n"
          ]
        },
        {
          "output_type": "error",
          "ename": "KeyboardInterrupt",
          "evalue": "ignored",
          "traceback": [
            "\u001b[0;31m---------------------------------------------------------------------------\u001b[0m",
            "\u001b[0;31mKeyboardInterrupt\u001b[0m                         Traceback (most recent call last)",
            "\u001b[0;32m<ipython-input-43-4701ea2c3a06>\u001b[0m in \u001b[0;36m<cell line: 1>\u001b[0;34m()\u001b[0m\n\u001b[0;32m----> 1\u001b[0;31m \u001b[0magent\u001b[0m\u001b[0;34m.\u001b[0m\u001b[0mrun\u001b[0m\u001b[0;34m(\u001b[0m\u001b[0;34m\"\"\"income=40,000, bank deposit interest= 5000, expense: house rent, food, travelling micellanious, now i need savings plan with which i can save 10,000 per month taxes 5000 and fixed expense 5000 and also repay my personal loan of 1,00,000 of interest rate 10.47%, give a 1 year plan \"\"\"\u001b[0m\u001b[0;34m)\u001b[0m\u001b[0;34m\u001b[0m\u001b[0;34m\u001b[0m\u001b[0m\n\u001b[0m",
            "\u001b[0;32m/usr/local/lib/python3.10/dist-packages/langchain/chains/base.py\u001b[0m in \u001b[0;36mrun\u001b[0;34m(self, callbacks, tags, metadata, *args, **kwargs)\u001b[0m\n\u001b[1;32m    473\u001b[0m             \u001b[0;32mif\u001b[0m \u001b[0mlen\u001b[0m\u001b[0;34m(\u001b[0m\u001b[0margs\u001b[0m\u001b[0;34m)\u001b[0m \u001b[0;34m!=\u001b[0m \u001b[0;36m1\u001b[0m\u001b[0;34m:\u001b[0m\u001b[0;34m\u001b[0m\u001b[0;34m\u001b[0m\u001b[0m\n\u001b[1;32m    474\u001b[0m                 \u001b[0;32mraise\u001b[0m \u001b[0mValueError\u001b[0m\u001b[0;34m(\u001b[0m\u001b[0;34m\"`run` supports only one positional argument.\"\u001b[0m\u001b[0;34m)\u001b[0m\u001b[0;34m\u001b[0m\u001b[0;34m\u001b[0m\u001b[0m\n\u001b[0;32m--> 475\u001b[0;31m             return self(args[0], callbacks=callbacks, tags=tags, metadata=metadata)[\n\u001b[0m\u001b[1;32m    476\u001b[0m                 \u001b[0m_output_key\u001b[0m\u001b[0;34m\u001b[0m\u001b[0;34m\u001b[0m\u001b[0m\n\u001b[1;32m    477\u001b[0m             ]\n",
            "\u001b[0;32m/usr/local/lib/python3.10/dist-packages/langchain/chains/base.py\u001b[0m in \u001b[0;36m__call__\u001b[0;34m(self, inputs, return_only_outputs, callbacks, tags, metadata, include_run_info)\u001b[0m\n\u001b[1;32m    280\u001b[0m         \u001b[0;32mexcept\u001b[0m \u001b[0;34m(\u001b[0m\u001b[0mKeyboardInterrupt\u001b[0m\u001b[0;34m,\u001b[0m \u001b[0mException\u001b[0m\u001b[0;34m)\u001b[0m \u001b[0;32mas\u001b[0m \u001b[0me\u001b[0m\u001b[0;34m:\u001b[0m\u001b[0;34m\u001b[0m\u001b[0;34m\u001b[0m\u001b[0m\n\u001b[1;32m    281\u001b[0m             \u001b[0mrun_manager\u001b[0m\u001b[0;34m.\u001b[0m\u001b[0mon_chain_error\u001b[0m\u001b[0;34m(\u001b[0m\u001b[0me\u001b[0m\u001b[0;34m)\u001b[0m\u001b[0;34m\u001b[0m\u001b[0;34m\u001b[0m\u001b[0m\n\u001b[0;32m--> 282\u001b[0;31m             \u001b[0;32mraise\u001b[0m \u001b[0me\u001b[0m\u001b[0;34m\u001b[0m\u001b[0;34m\u001b[0m\u001b[0m\n\u001b[0m\u001b[1;32m    283\u001b[0m         \u001b[0mrun_manager\u001b[0m\u001b[0;34m.\u001b[0m\u001b[0mon_chain_end\u001b[0m\u001b[0;34m(\u001b[0m\u001b[0moutputs\u001b[0m\u001b[0;34m)\u001b[0m\u001b[0;34m\u001b[0m\u001b[0;34m\u001b[0m\u001b[0m\n\u001b[1;32m    284\u001b[0m         final_outputs: Dict[str, Any] = self.prep_outputs(\n",
            "\u001b[0;32m/usr/local/lib/python3.10/dist-packages/langchain/chains/base.py\u001b[0m in \u001b[0;36m__call__\u001b[0;34m(self, inputs, return_only_outputs, callbacks, tags, metadata, include_run_info)\u001b[0m\n\u001b[1;32m    274\u001b[0m         \u001b[0;32mtry\u001b[0m\u001b[0;34m:\u001b[0m\u001b[0;34m\u001b[0m\u001b[0;34m\u001b[0m\u001b[0m\n\u001b[1;32m    275\u001b[0m             outputs = (\n\u001b[0;32m--> 276\u001b[0;31m                 \u001b[0mself\u001b[0m\u001b[0;34m.\u001b[0m\u001b[0m_call\u001b[0m\u001b[0;34m(\u001b[0m\u001b[0minputs\u001b[0m\u001b[0;34m,\u001b[0m \u001b[0mrun_manager\u001b[0m\u001b[0;34m=\u001b[0m\u001b[0mrun_manager\u001b[0m\u001b[0;34m)\u001b[0m\u001b[0;34m\u001b[0m\u001b[0;34m\u001b[0m\u001b[0m\n\u001b[0m\u001b[1;32m    277\u001b[0m                 \u001b[0;32mif\u001b[0m \u001b[0mnew_arg_supported\u001b[0m\u001b[0;34m\u001b[0m\u001b[0;34m\u001b[0m\u001b[0m\n\u001b[1;32m    278\u001b[0m                 \u001b[0;32melse\u001b[0m \u001b[0mself\u001b[0m\u001b[0;34m.\u001b[0m\u001b[0m_call\u001b[0m\u001b[0;34m(\u001b[0m\u001b[0minputs\u001b[0m\u001b[0;34m)\u001b[0m\u001b[0;34m\u001b[0m\u001b[0;34m\u001b[0m\u001b[0m\n",
            "\u001b[0;32m/usr/local/lib/python3.10/dist-packages/langchain/agents/agent.py\u001b[0m in \u001b[0;36m_call\u001b[0;34m(self, inputs, run_manager)\u001b[0m\n\u001b[1;32m   1034\u001b[0m         \u001b[0;31m# We now enter the agent loop (until it returns something).\u001b[0m\u001b[0;34m\u001b[0m\u001b[0;34m\u001b[0m\u001b[0m\n\u001b[1;32m   1035\u001b[0m         \u001b[0;32mwhile\u001b[0m \u001b[0mself\u001b[0m\u001b[0;34m.\u001b[0m\u001b[0m_should_continue\u001b[0m\u001b[0;34m(\u001b[0m\u001b[0miterations\u001b[0m\u001b[0;34m,\u001b[0m \u001b[0mtime_elapsed\u001b[0m\u001b[0;34m)\u001b[0m\u001b[0;34m:\u001b[0m\u001b[0;34m\u001b[0m\u001b[0;34m\u001b[0m\u001b[0m\n\u001b[0;32m-> 1036\u001b[0;31m             next_step_output = self._take_next_step(\n\u001b[0m\u001b[1;32m   1037\u001b[0m                 \u001b[0mname_to_tool_map\u001b[0m\u001b[0;34m,\u001b[0m\u001b[0;34m\u001b[0m\u001b[0;34m\u001b[0m\u001b[0m\n\u001b[1;32m   1038\u001b[0m                 \u001b[0mcolor_mapping\u001b[0m\u001b[0;34m,\u001b[0m\u001b[0;34m\u001b[0m\u001b[0;34m\u001b[0m\u001b[0m\n",
            "\u001b[0;32m/usr/local/lib/python3.10/dist-packages/langchain/agents/agent.py\u001b[0m in \u001b[0;36m_take_next_step\u001b[0;34m(self, name_to_tool_map, color_mapping, inputs, intermediate_steps, run_manager)\u001b[0m\n\u001b[1;32m    831\u001b[0m \u001b[0;34m\u001b[0m\u001b[0m\n\u001b[1;32m    832\u001b[0m             \u001b[0;31m# Call the LLM to see what to do.\u001b[0m\u001b[0;34m\u001b[0m\u001b[0;34m\u001b[0m\u001b[0m\n\u001b[0;32m--> 833\u001b[0;31m             output = self.agent.plan(\n\u001b[0m\u001b[1;32m    834\u001b[0m                 \u001b[0mintermediate_steps\u001b[0m\u001b[0;34m,\u001b[0m\u001b[0;34m\u001b[0m\u001b[0;34m\u001b[0m\u001b[0m\n\u001b[1;32m    835\u001b[0m                 \u001b[0mcallbacks\u001b[0m\u001b[0;34m=\u001b[0m\u001b[0mrun_manager\u001b[0m\u001b[0;34m.\u001b[0m\u001b[0mget_child\u001b[0m\u001b[0;34m(\u001b[0m\u001b[0;34m)\u001b[0m \u001b[0;32mif\u001b[0m \u001b[0mrun_manager\u001b[0m \u001b[0;32melse\u001b[0m \u001b[0;32mNone\u001b[0m\u001b[0;34m,\u001b[0m\u001b[0;34m\u001b[0m\u001b[0;34m\u001b[0m\u001b[0m\n",
            "\u001b[0;32m/usr/local/lib/python3.10/dist-packages/langchain/agents/openai_functions_agent/base.py\u001b[0m in \u001b[0;36mplan\u001b[0;34m(self, intermediate_steps, callbacks, with_functions, **kwargs)\u001b[0m\n\u001b[1;32m    209\u001b[0m         \u001b[0mmessages\u001b[0m \u001b[0;34m=\u001b[0m \u001b[0mprompt\u001b[0m\u001b[0;34m.\u001b[0m\u001b[0mto_messages\u001b[0m\u001b[0;34m(\u001b[0m\u001b[0;34m)\u001b[0m\u001b[0;34m\u001b[0m\u001b[0;34m\u001b[0m\u001b[0m\n\u001b[1;32m    210\u001b[0m         \u001b[0;32mif\u001b[0m \u001b[0mwith_functions\u001b[0m\u001b[0;34m:\u001b[0m\u001b[0;34m\u001b[0m\u001b[0;34m\u001b[0m\u001b[0m\n\u001b[0;32m--> 211\u001b[0;31m             predicted_message = self.llm.predict_messages(\n\u001b[0m\u001b[1;32m    212\u001b[0m                 \u001b[0mmessages\u001b[0m\u001b[0;34m,\u001b[0m\u001b[0;34m\u001b[0m\u001b[0;34m\u001b[0m\u001b[0m\n\u001b[1;32m    213\u001b[0m                 \u001b[0mfunctions\u001b[0m\u001b[0;34m=\u001b[0m\u001b[0mself\u001b[0m\u001b[0;34m.\u001b[0m\u001b[0mfunctions\u001b[0m\u001b[0;34m,\u001b[0m\u001b[0;34m\u001b[0m\u001b[0;34m\u001b[0m\u001b[0m\n",
            "\u001b[0;32m/usr/local/lib/python3.10/dist-packages/langchain/chat_models/base.py\u001b[0m in \u001b[0;36mpredict_messages\u001b[0;34m(self, messages, stop, **kwargs)\u001b[0m\n\u001b[1;32m    599\u001b[0m         \u001b[0;32melse\u001b[0m\u001b[0;34m:\u001b[0m\u001b[0;34m\u001b[0m\u001b[0;34m\u001b[0m\u001b[0m\n\u001b[1;32m    600\u001b[0m             \u001b[0m_stop\u001b[0m \u001b[0;34m=\u001b[0m \u001b[0mlist\u001b[0m\u001b[0;34m(\u001b[0m\u001b[0mstop\u001b[0m\u001b[0;34m)\u001b[0m\u001b[0;34m\u001b[0m\u001b[0;34m\u001b[0m\u001b[0m\n\u001b[0;32m--> 601\u001b[0;31m         \u001b[0;32mreturn\u001b[0m \u001b[0mself\u001b[0m\u001b[0;34m(\u001b[0m\u001b[0mmessages\u001b[0m\u001b[0;34m,\u001b[0m \u001b[0mstop\u001b[0m\u001b[0;34m=\u001b[0m\u001b[0m_stop\u001b[0m\u001b[0;34m,\u001b[0m \u001b[0;34m**\u001b[0m\u001b[0mkwargs\u001b[0m\u001b[0;34m)\u001b[0m\u001b[0;34m\u001b[0m\u001b[0;34m\u001b[0m\u001b[0m\n\u001b[0m\u001b[1;32m    602\u001b[0m \u001b[0;34m\u001b[0m\u001b[0m\n\u001b[1;32m    603\u001b[0m     async def apredict(\n",
            "\u001b[0;32m/usr/local/lib/python3.10/dist-packages/langchain/chat_models/base.py\u001b[0m in \u001b[0;36m__call__\u001b[0;34m(self, messages, stop, callbacks, **kwargs)\u001b[0m\n\u001b[1;32m    549\u001b[0m         \u001b[0;34m**\u001b[0m\u001b[0mkwargs\u001b[0m\u001b[0;34m:\u001b[0m \u001b[0mAny\u001b[0m\u001b[0;34m,\u001b[0m\u001b[0;34m\u001b[0m\u001b[0;34m\u001b[0m\u001b[0m\n\u001b[1;32m    550\u001b[0m     ) -> BaseMessage:\n\u001b[0;32m--> 551\u001b[0;31m         generation = self.generate(\n\u001b[0m\u001b[1;32m    552\u001b[0m             \u001b[0;34m[\u001b[0m\u001b[0mmessages\u001b[0m\u001b[0;34m]\u001b[0m\u001b[0;34m,\u001b[0m \u001b[0mstop\u001b[0m\u001b[0;34m=\u001b[0m\u001b[0mstop\u001b[0m\u001b[0;34m,\u001b[0m \u001b[0mcallbacks\u001b[0m\u001b[0;34m=\u001b[0m\u001b[0mcallbacks\u001b[0m\u001b[0;34m,\u001b[0m \u001b[0;34m**\u001b[0m\u001b[0mkwargs\u001b[0m\u001b[0;34m\u001b[0m\u001b[0;34m\u001b[0m\u001b[0m\n\u001b[1;32m    553\u001b[0m         ).generations[0][0]\n",
            "\u001b[0;32m/usr/local/lib/python3.10/dist-packages/langchain/chat_models/base.py\u001b[0m in \u001b[0;36mgenerate\u001b[0;34m(self, messages, stop, callbacks, tags, metadata, **kwargs)\u001b[0m\n\u001b[1;32m    307\u001b[0m                 \u001b[0;32mif\u001b[0m \u001b[0mrun_managers\u001b[0m\u001b[0;34m:\u001b[0m\u001b[0;34m\u001b[0m\u001b[0;34m\u001b[0m\u001b[0m\n\u001b[1;32m    308\u001b[0m                     \u001b[0mrun_managers\u001b[0m\u001b[0;34m[\u001b[0m\u001b[0mi\u001b[0m\u001b[0;34m]\u001b[0m\u001b[0;34m.\u001b[0m\u001b[0mon_llm_error\u001b[0m\u001b[0;34m(\u001b[0m\u001b[0me\u001b[0m\u001b[0;34m)\u001b[0m\u001b[0;34m\u001b[0m\u001b[0;34m\u001b[0m\u001b[0m\n\u001b[0;32m--> 309\u001b[0;31m                 \u001b[0;32mraise\u001b[0m \u001b[0me\u001b[0m\u001b[0;34m\u001b[0m\u001b[0;34m\u001b[0m\u001b[0m\n\u001b[0m\u001b[1;32m    310\u001b[0m         flattened_outputs = [\n\u001b[1;32m    311\u001b[0m             \u001b[0mLLMResult\u001b[0m\u001b[0;34m(\u001b[0m\u001b[0mgenerations\u001b[0m\u001b[0;34m=\u001b[0m\u001b[0;34m[\u001b[0m\u001b[0mres\u001b[0m\u001b[0;34m.\u001b[0m\u001b[0mgenerations\u001b[0m\u001b[0;34m]\u001b[0m\u001b[0;34m,\u001b[0m \u001b[0mllm_output\u001b[0m\u001b[0;34m=\u001b[0m\u001b[0mres\u001b[0m\u001b[0;34m.\u001b[0m\u001b[0mllm_output\u001b[0m\u001b[0;34m)\u001b[0m\u001b[0;34m\u001b[0m\u001b[0;34m\u001b[0m\u001b[0m\n",
            "\u001b[0;32m/usr/local/lib/python3.10/dist-packages/langchain/chat_models/base.py\u001b[0m in \u001b[0;36mgenerate\u001b[0;34m(self, messages, stop, callbacks, tags, metadata, **kwargs)\u001b[0m\n\u001b[1;32m    297\u001b[0m             \u001b[0;32mtry\u001b[0m\u001b[0;34m:\u001b[0m\u001b[0;34m\u001b[0m\u001b[0;34m\u001b[0m\u001b[0m\n\u001b[1;32m    298\u001b[0m                 results.append(\n\u001b[0;32m--> 299\u001b[0;31m                     self._generate_with_cache(\n\u001b[0m\u001b[1;32m    300\u001b[0m                         \u001b[0mm\u001b[0m\u001b[0;34m,\u001b[0m\u001b[0;34m\u001b[0m\u001b[0;34m\u001b[0m\u001b[0m\n\u001b[1;32m    301\u001b[0m                         \u001b[0mstop\u001b[0m\u001b[0;34m=\u001b[0m\u001b[0mstop\u001b[0m\u001b[0;34m,\u001b[0m\u001b[0;34m\u001b[0m\u001b[0;34m\u001b[0m\u001b[0m\n",
            "\u001b[0;32m/usr/local/lib/python3.10/dist-packages/langchain/chat_models/base.py\u001b[0m in \u001b[0;36m_generate_with_cache\u001b[0;34m(self, messages, stop, run_manager, **kwargs)\u001b[0m\n\u001b[1;32m    444\u001b[0m                 )\n\u001b[1;32m    445\u001b[0m             \u001b[0;32mif\u001b[0m \u001b[0mnew_arg_supported\u001b[0m\u001b[0;34m:\u001b[0m\u001b[0;34m\u001b[0m\u001b[0;34m\u001b[0m\u001b[0m\n\u001b[0;32m--> 446\u001b[0;31m                 return self._generate(\n\u001b[0m\u001b[1;32m    447\u001b[0m                     \u001b[0mmessages\u001b[0m\u001b[0;34m,\u001b[0m \u001b[0mstop\u001b[0m\u001b[0;34m=\u001b[0m\u001b[0mstop\u001b[0m\u001b[0;34m,\u001b[0m \u001b[0mrun_manager\u001b[0m\u001b[0;34m=\u001b[0m\u001b[0mrun_manager\u001b[0m\u001b[0;34m,\u001b[0m \u001b[0;34m**\u001b[0m\u001b[0mkwargs\u001b[0m\u001b[0;34m\u001b[0m\u001b[0;34m\u001b[0m\u001b[0m\n\u001b[1;32m    448\u001b[0m                 )\n",
            "\u001b[0;32m/usr/local/lib/python3.10/dist-packages/langchain/chat_models/openai.py\u001b[0m in \u001b[0;36m_generate\u001b[0;34m(self, messages, stop, run_manager, stream, **kwargs)\u001b[0m\n\u001b[1;32m    343\u001b[0m         \u001b[0mmessage_dicts\u001b[0m\u001b[0;34m,\u001b[0m \u001b[0mparams\u001b[0m \u001b[0;34m=\u001b[0m \u001b[0mself\u001b[0m\u001b[0;34m.\u001b[0m\u001b[0m_create_message_dicts\u001b[0m\u001b[0;34m(\u001b[0m\u001b[0mmessages\u001b[0m\u001b[0;34m,\u001b[0m \u001b[0mstop\u001b[0m\u001b[0;34m)\u001b[0m\u001b[0;34m\u001b[0m\u001b[0;34m\u001b[0m\u001b[0m\n\u001b[1;32m    344\u001b[0m         \u001b[0mparams\u001b[0m \u001b[0;34m=\u001b[0m \u001b[0;34m{\u001b[0m\u001b[0;34m**\u001b[0m\u001b[0mparams\u001b[0m\u001b[0;34m,\u001b[0m \u001b[0;34m**\u001b[0m\u001b[0mkwargs\u001b[0m\u001b[0;34m}\u001b[0m\u001b[0;34m\u001b[0m\u001b[0;34m\u001b[0m\u001b[0m\n\u001b[0;32m--> 345\u001b[0;31m         response = self.completion_with_retry(\n\u001b[0m\u001b[1;32m    346\u001b[0m             \u001b[0mmessages\u001b[0m\u001b[0;34m=\u001b[0m\u001b[0mmessage_dicts\u001b[0m\u001b[0;34m,\u001b[0m \u001b[0mrun_manager\u001b[0m\u001b[0;34m=\u001b[0m\u001b[0mrun_manager\u001b[0m\u001b[0;34m,\u001b[0m \u001b[0;34m**\u001b[0m\u001b[0mparams\u001b[0m\u001b[0;34m\u001b[0m\u001b[0;34m\u001b[0m\u001b[0m\n\u001b[1;32m    347\u001b[0m         )\n",
            "\u001b[0;32m/usr/local/lib/python3.10/dist-packages/langchain/chat_models/openai.py\u001b[0m in \u001b[0;36mcompletion_with_retry\u001b[0;34m(self, run_manager, **kwargs)\u001b[0m\n\u001b[1;32m    276\u001b[0m             \u001b[0;32mreturn\u001b[0m \u001b[0mself\u001b[0m\u001b[0;34m.\u001b[0m\u001b[0mclient\u001b[0m\u001b[0;34m.\u001b[0m\u001b[0mcreate\u001b[0m\u001b[0;34m(\u001b[0m\u001b[0;34m**\u001b[0m\u001b[0mkwargs\u001b[0m\u001b[0;34m)\u001b[0m\u001b[0;34m\u001b[0m\u001b[0;34m\u001b[0m\u001b[0m\n\u001b[1;32m    277\u001b[0m \u001b[0;34m\u001b[0m\u001b[0m\n\u001b[0;32m--> 278\u001b[0;31m         \u001b[0;32mreturn\u001b[0m \u001b[0m_completion_with_retry\u001b[0m\u001b[0;34m(\u001b[0m\u001b[0;34m**\u001b[0m\u001b[0mkwargs\u001b[0m\u001b[0;34m)\u001b[0m\u001b[0;34m\u001b[0m\u001b[0;34m\u001b[0m\u001b[0m\n\u001b[0m\u001b[1;32m    279\u001b[0m \u001b[0;34m\u001b[0m\u001b[0m\n\u001b[1;32m    280\u001b[0m     \u001b[0;32mdef\u001b[0m \u001b[0m_combine_llm_outputs\u001b[0m\u001b[0;34m(\u001b[0m\u001b[0mself\u001b[0m\u001b[0;34m,\u001b[0m \u001b[0mllm_outputs\u001b[0m\u001b[0;34m:\u001b[0m \u001b[0mList\u001b[0m\u001b[0;34m[\u001b[0m\u001b[0mOptional\u001b[0m\u001b[0;34m[\u001b[0m\u001b[0mdict\u001b[0m\u001b[0;34m]\u001b[0m\u001b[0;34m]\u001b[0m\u001b[0;34m)\u001b[0m \u001b[0;34m->\u001b[0m \u001b[0mdict\u001b[0m\u001b[0;34m:\u001b[0m\u001b[0;34m\u001b[0m\u001b[0;34m\u001b[0m\u001b[0m\n",
            "\u001b[0;32m/usr/local/lib/python3.10/dist-packages/tenacity/__init__.py\u001b[0m in \u001b[0;36mwrapped_f\u001b[0;34m(*args, **kw)\u001b[0m\n\u001b[1;32m    287\u001b[0m         \u001b[0;34m@\u001b[0m\u001b[0mfunctools\u001b[0m\u001b[0;34m.\u001b[0m\u001b[0mwraps\u001b[0m\u001b[0;34m(\u001b[0m\u001b[0mf\u001b[0m\u001b[0;34m)\u001b[0m\u001b[0;34m\u001b[0m\u001b[0;34m\u001b[0m\u001b[0m\n\u001b[1;32m    288\u001b[0m         \u001b[0;32mdef\u001b[0m \u001b[0mwrapped_f\u001b[0m\u001b[0;34m(\u001b[0m\u001b[0;34m*\u001b[0m\u001b[0margs\u001b[0m\u001b[0;34m:\u001b[0m \u001b[0mt\u001b[0m\u001b[0;34m.\u001b[0m\u001b[0mAny\u001b[0m\u001b[0;34m,\u001b[0m \u001b[0;34m**\u001b[0m\u001b[0mkw\u001b[0m\u001b[0;34m:\u001b[0m \u001b[0mt\u001b[0m\u001b[0;34m.\u001b[0m\u001b[0mAny\u001b[0m\u001b[0;34m)\u001b[0m \u001b[0;34m->\u001b[0m \u001b[0mt\u001b[0m\u001b[0;34m.\u001b[0m\u001b[0mAny\u001b[0m\u001b[0;34m:\u001b[0m\u001b[0;34m\u001b[0m\u001b[0;34m\u001b[0m\u001b[0m\n\u001b[0;32m--> 289\u001b[0;31m             \u001b[0;32mreturn\u001b[0m \u001b[0mself\u001b[0m\u001b[0;34m(\u001b[0m\u001b[0mf\u001b[0m\u001b[0;34m,\u001b[0m \u001b[0;34m*\u001b[0m\u001b[0margs\u001b[0m\u001b[0;34m,\u001b[0m \u001b[0;34m**\u001b[0m\u001b[0mkw\u001b[0m\u001b[0;34m)\u001b[0m\u001b[0;34m\u001b[0m\u001b[0;34m\u001b[0m\u001b[0m\n\u001b[0m\u001b[1;32m    290\u001b[0m \u001b[0;34m\u001b[0m\u001b[0m\n\u001b[1;32m    291\u001b[0m         \u001b[0;32mdef\u001b[0m \u001b[0mretry_with\u001b[0m\u001b[0;34m(\u001b[0m\u001b[0;34m*\u001b[0m\u001b[0margs\u001b[0m\u001b[0;34m:\u001b[0m \u001b[0mt\u001b[0m\u001b[0;34m.\u001b[0m\u001b[0mAny\u001b[0m\u001b[0;34m,\u001b[0m \u001b[0;34m**\u001b[0m\u001b[0mkwargs\u001b[0m\u001b[0;34m:\u001b[0m \u001b[0mt\u001b[0m\u001b[0;34m.\u001b[0m\u001b[0mAny\u001b[0m\u001b[0;34m)\u001b[0m \u001b[0;34m->\u001b[0m \u001b[0mWrappedFn\u001b[0m\u001b[0;34m:\u001b[0m\u001b[0;34m\u001b[0m\u001b[0;34m\u001b[0m\u001b[0m\n",
            "\u001b[0;32m/usr/local/lib/python3.10/dist-packages/tenacity/__init__.py\u001b[0m in \u001b[0;36m__call__\u001b[0;34m(self, fn, *args, **kwargs)\u001b[0m\n\u001b[1;32m    387\u001b[0m             \u001b[0;32melif\u001b[0m \u001b[0misinstance\u001b[0m\u001b[0;34m(\u001b[0m\u001b[0mdo\u001b[0m\u001b[0;34m,\u001b[0m \u001b[0mDoSleep\u001b[0m\u001b[0;34m)\u001b[0m\u001b[0;34m:\u001b[0m\u001b[0;34m\u001b[0m\u001b[0;34m\u001b[0m\u001b[0m\n\u001b[1;32m    388\u001b[0m                 \u001b[0mretry_state\u001b[0m\u001b[0;34m.\u001b[0m\u001b[0mprepare_for_next_attempt\u001b[0m\u001b[0;34m(\u001b[0m\u001b[0;34m)\u001b[0m\u001b[0;34m\u001b[0m\u001b[0;34m\u001b[0m\u001b[0m\n\u001b[0;32m--> 389\u001b[0;31m                 \u001b[0mself\u001b[0m\u001b[0;34m.\u001b[0m\u001b[0msleep\u001b[0m\u001b[0;34m(\u001b[0m\u001b[0mdo\u001b[0m\u001b[0;34m)\u001b[0m\u001b[0;34m\u001b[0m\u001b[0;34m\u001b[0m\u001b[0m\n\u001b[0m\u001b[1;32m    390\u001b[0m             \u001b[0;32melse\u001b[0m\u001b[0;34m:\u001b[0m\u001b[0;34m\u001b[0m\u001b[0;34m\u001b[0m\u001b[0m\n\u001b[1;32m    391\u001b[0m                 \u001b[0;32mreturn\u001b[0m \u001b[0mdo\u001b[0m  \u001b[0;31m# type: ignore[no-any-return]\u001b[0m\u001b[0;34m\u001b[0m\u001b[0;34m\u001b[0m\u001b[0m\n",
            "\u001b[0;32m/usr/local/lib/python3.10/dist-packages/tenacity/nap.py\u001b[0m in \u001b[0;36msleep\u001b[0;34m(seconds)\u001b[0m\n\u001b[1;32m     29\u001b[0m     \u001b[0mThis\u001b[0m \u001b[0;32mis\u001b[0m \u001b[0mthe\u001b[0m \u001b[0mdefault\u001b[0m \u001b[0mstrategy\u001b[0m\u001b[0;34m,\u001b[0m \u001b[0;32mand\u001b[0m \u001b[0mmay\u001b[0m \u001b[0mbe\u001b[0m \u001b[0mmocked\u001b[0m \u001b[0mout\u001b[0m \u001b[0;32mfor\u001b[0m \u001b[0munit\u001b[0m \u001b[0mtesting\u001b[0m\u001b[0;34m.\u001b[0m\u001b[0;34m\u001b[0m\u001b[0;34m\u001b[0m\u001b[0m\n\u001b[1;32m     30\u001b[0m     \"\"\"\n\u001b[0;32m---> 31\u001b[0;31m     \u001b[0mtime\u001b[0m\u001b[0;34m.\u001b[0m\u001b[0msleep\u001b[0m\u001b[0;34m(\u001b[0m\u001b[0mseconds\u001b[0m\u001b[0;34m)\u001b[0m\u001b[0;34m\u001b[0m\u001b[0;34m\u001b[0m\u001b[0m\n\u001b[0m\u001b[1;32m     32\u001b[0m \u001b[0;34m\u001b[0m\u001b[0m\n\u001b[1;32m     33\u001b[0m \u001b[0;34m\u001b[0m\u001b[0m\n",
            "\u001b[0;31mKeyboardInterrupt\u001b[0m: "
          ]
        }
      ],
      "source": [
        "agent.run(\"\"\"income=40,000, bank deposit interest= 5000, expense: house rent, food, travelling micellanious, now i need savings plan with which i can save 10,000 per month taxes 5000 and fixed expense 5000 and also repay my personal loan of 1,00,000 of interest rate 10.47%, give a 1 year plan \"\"\")"
      ]
    },
    {
      "cell_type": "code",
      "execution_count": null,
      "metadata": {
        "id": "GvDaOc3cfD6I"
      },
      "outputs": [],
      "source": [
        "\n",
        "from langchain.prompts import MessagesPlaceholder\n",
        "\n",
        "agent_kwargs = {\n",
        "    \"prompt_templates\": [\n",
        "        \"Here is the conversation history:\\n{memory}\\n\\n\"\n",
        "        \"Given the tools {tools} and the conversation history, \"\n",
        "        \"answer the following question:\\n{input}\"\n",
        "    ]\n",
        "}\n",
        "\n",
        "agent = initialize_agent(\n",
        "    tools=tools,\n",
        "    llm=llm,\n",
        "    agent=AgentType.OPENAI_FUNCTIONS,\n",
        "    memory=memory,\n",
        "    agent_kwargs=agent_kwargs,\n",
        "    verbose=True\n",
        ")"
      ]
    },
    {
      "cell_type": "code",
      "execution_count": null,
      "metadata": {
        "id": "oYeRS67WfsfZ"
      },
      "outputs": [],
      "source": [
        "agent.run(input=\"use these stocks to make a investment plan for my previous stocks with investment amount of 1000 rupees\" )"
      ]
    },
    {
      "cell_type": "code",
      "execution_count": null,
      "metadata": {
        "id": "jHjQYThCf0TO"
      },
      "outputs": [],
      "source": [
        "open_ai_agent.run(\"Which stock out of Google, Meta and MSFT has performed best over the past 3 months?\")"
      ]
    },
    {
      "cell_type": "code",
      "execution_count": null,
      "metadata": {
        "id": "C1rzyxrxjgY7"
      },
      "outputs": [],
      "source": [
        "open_ai_agent.run(\"How much has MSFT's stock gone up over the past 3 months?\")"
      ]
    },
    {
      "cell_type": "code",
      "execution_count": null,
      "metadata": {
        "id": "eqvQgs-Wjmdy"
      },
      "outputs": [],
      "source": [
        "open_ai_agent.run(\"1.buying house,2.long term,low,6000 rupees make a investment plan\")"
      ]
    },
    {
      "cell_type": "code",
      "execution_count": null,
      "metadata": {
        "id": "gBx2V2KcBp7Q"
      },
      "outputs": [],
      "source": [
        "import requests\n",
        "\n",
        "# Your bot token and base URL\n",
        "base_url = \"https://api.telegram.org/botYOUR_BOT_TOKEN_HERE\"\n",
        "\n",
        "def read_msg(offset):\n",
        "    parameters = {\n",
        "        \"offset\": offset\n",
        "    }\n",
        "    resp = requests.get(base_url + \"/getUpdates\", params=parameters)\n",
        "    data = resp.json()\n",
        "\n",
        "    for result in data[\"result\"]:\n",
        "        if \"photo\" in result[\"message\"]:\n",
        "            send_response(result[\"message\"][\"chat\"][\"id\"])\n",
        "\n",
        "    if data[\"result\"]:\n",
        "        return data[\"result\"][-1][\"update_id\"] + 1\n",
        "\n",
        "def send_response(chat_id):\n",
        "\n",
        "    parameters = {\n",
        "        \"chat_id\": chat_id,\n",
        "        \"text\": \"Okay, I received your image file!\"\n",
        "    }\n",
        "    resp = requests.get(base_url + \"/sendMessage\", params=parameters)\n",
        "\n",
        "offset = 0\n",
        "while True:\n",
        "    offset = read_msg(offset)"
      ]
    },
    {
      "cell_type": "code",
      "execution_count": null,
      "metadata": {
        "id": "guc6IiaIAXtd"
      },
      "outputs": [],
      "source": [
        "import os\n",
        "import sys\n",
        "import requests\n",
        "# If you are using a Jupyter Notebook, uncomment the following line.\n",
        "# %matplotlib inline\n",
        "import matplotlib.pyplot as plt\n",
        "from matplotlib.patches import Rectangle\n",
        "from PIL import Image\n",
        "from io import BytesIO\n",
        "import json\n",
        "# Function to extract and format text from the JSON data\n",
        "def extract_table(data):\n",
        "    table = []\n",
        "    for region in data['regions']:\n",
        "        for line in region['lines']:\n",
        "            row = ' '.join([word['text'] for word in line['words']])\n",
        "            table.append(row)\n",
        "    return table\n",
        "\n",
        "def image_to_text(image_url):\n",
        "  # Add your Computer Vision key and endpoint to your environment variables.\n",
        "  subscription_key = '978f18b0a6d74541890e34ff3cb33594'\n",
        "  endpoint = 'https://texttoimageapi.cognitiveservices.azure.com/'\n",
        "\n",
        "  ocr_url = endpoint + \"vision/v3.1/ocr\"\n",
        "  params = {'language': 'unk', 'detectOrientation': 'true'}\n",
        "\n",
        "  # Fetch the image from the URL\n",
        "  response = requests.get(image_url)\n",
        "  response.raise_for_status()\n",
        "  image_data = response.content\n",
        "\n",
        "  # Set Content-Type to octet-stream\n",
        "  headers = {'Ocp-Apim-Subscription-Key': subscription_key, 'Content-Type': 'application/octet-stream'}\n",
        "\n",
        "  # Make the OCR request\n",
        "  response = requests.post(ocr_url, headers=headers, params=params, data=image_data)\n",
        "\n",
        "  data = json.loads(response.text)\n",
        "\n",
        "\n",
        "\n",
        "  # Extract and format the table\n",
        "  formatted_table = extract_table(data)\n",
        "  return formatted_table\n",
        "\n"
      ]
    },
    {
      "cell_type": "code",
      "execution_count": null,
      "metadata": {
        "colab": {
          "base_uri": "https://localhost:8080/",
          "height": 495
        },
        "id": "CwZhZsH2pEW2",
        "outputId": "32a14cda-1284-486a-9737-5169d309e926"
      },
      "outputs": [
        {
          "output_type": "stream",
          "name": "stdout",
          "text": [
            "\n",
            "\n",
            "\u001b[1m> Entering new AgentExecutor chain...\u001b[0m\n",
            "\u001b[32;1m\u001b[1;3m\n",
            "Invoking: `GetStockTickerprice` with `{'stockticker': 'HDFCBALADV.NS'}`\n",
            "\n",
            "\n",
            "\u001b[0m"
          ]
        },
        {
          "output_type": "stream",
          "name": "stderr",
          "text": [
            "ERROR:yfinance:HDFCBALADV.NS: No data found, symbol may be delisted\n"
          ]
        },
        {
          "output_type": "error",
          "ename": "IndexError",
          "evalue": "ignored",
          "traceback": [
            "\u001b[0;31m---------------------------------------------------------------------------\u001b[0m",
            "\u001b[0;31mIndexError\u001b[0m                                Traceback (most recent call last)",
            "\u001b[0;32m<ipython-input-63-1a060b407785>\u001b[0m in \u001b[0;36m<cell line: 57>\u001b[0;34m()\u001b[0m\n\u001b[1;32m     56\u001b[0m \u001b[0moffset\u001b[0m \u001b[0;34m=\u001b[0m \u001b[0;36m0\u001b[0m\u001b[0;34m\u001b[0m\u001b[0;34m\u001b[0m\u001b[0m\n\u001b[1;32m     57\u001b[0m \u001b[0;32mwhile\u001b[0m \u001b[0;32mTrue\u001b[0m\u001b[0;34m:\u001b[0m\u001b[0;34m\u001b[0m\u001b[0;34m\u001b[0m\u001b[0m\n\u001b[0;32m---> 58\u001b[0;31m     \u001b[0moffset\u001b[0m \u001b[0;34m=\u001b[0m \u001b[0mread_msg\u001b[0m\u001b[0;34m(\u001b[0m\u001b[0moffset\u001b[0m\u001b[0;34m)\u001b[0m\u001b[0;34m\u001b[0m\u001b[0;34m\u001b[0m\u001b[0m\n\u001b[0m",
            "\u001b[0;32m<ipython-input-63-1a060b407785>\u001b[0m in \u001b[0;36mread_msg\u001b[0;34m(offset)\u001b[0m\n\u001b[1;32m     13\u001b[0m     \u001b[0;32mfor\u001b[0m \u001b[0mresult\u001b[0m \u001b[0;32min\u001b[0m \u001b[0mdata\u001b[0m\u001b[0;34m[\u001b[0m\u001b[0;34m\"result\"\u001b[0m\u001b[0;34m]\u001b[0m\u001b[0;34m:\u001b[0m\u001b[0;34m\u001b[0m\u001b[0;34m\u001b[0m\u001b[0m\n\u001b[1;32m     14\u001b[0m         \u001b[0;32mif\u001b[0m \u001b[0;34m'text'\u001b[0m \u001b[0;32min\u001b[0m \u001b[0mresult\u001b[0m\u001b[0;34m[\u001b[0m\u001b[0;34m'message'\u001b[0m\u001b[0;34m]\u001b[0m\u001b[0;34m:\u001b[0m\u001b[0;34m\u001b[0m\u001b[0;34m\u001b[0m\u001b[0m\n\u001b[0;32m---> 15\u001b[0;31m           \u001b[0msend_msg\u001b[0m\u001b[0;34m(\u001b[0m\u001b[0mresult\u001b[0m\u001b[0;34m[\u001b[0m\u001b[0;34m\"message\"\u001b[0m\u001b[0;34m]\u001b[0m\u001b[0;34m[\u001b[0m\u001b[0;34m\"chat\"\u001b[0m\u001b[0;34m]\u001b[0m\u001b[0;34m[\u001b[0m\u001b[0;34m\"id\"\u001b[0m\u001b[0;34m]\u001b[0m\u001b[0;34m,\u001b[0m\u001b[0mresult\u001b[0m\u001b[0;34m[\u001b[0m\u001b[0;34m\"message\"\u001b[0m\u001b[0;34m]\u001b[0m\u001b[0;34m[\u001b[0m\u001b[0;34m\"text\"\u001b[0m\u001b[0;34m]\u001b[0m\u001b[0;34m)\u001b[0m\u001b[0;34m\u001b[0m\u001b[0;34m\u001b[0m\u001b[0m\n\u001b[0m\u001b[1;32m     16\u001b[0m         \u001b[0;32mif\u001b[0m \u001b[0;34m\"photo\"\u001b[0m \u001b[0;32min\u001b[0m \u001b[0mresult\u001b[0m\u001b[0;34m[\u001b[0m\u001b[0;34m\"message\"\u001b[0m\u001b[0;34m]\u001b[0m\u001b[0;34m:\u001b[0m\u001b[0;34m\u001b[0m\u001b[0;34m\u001b[0m\u001b[0m\n\u001b[1;32m     17\u001b[0m             \u001b[0mreceived_image_id\u001b[0m \u001b[0;34m=\u001b[0m \u001b[0mresult\u001b[0m\u001b[0;34m[\u001b[0m\u001b[0;34m\"message\"\u001b[0m\u001b[0;34m]\u001b[0m\u001b[0;34m[\u001b[0m\u001b[0;34m\"photo\"\u001b[0m\u001b[0;34m]\u001b[0m\u001b[0;34m[\u001b[0m\u001b[0;34m-\u001b[0m\u001b[0;36m1\u001b[0m\u001b[0;34m]\u001b[0m\u001b[0;34m[\u001b[0m\u001b[0;34m\"file_id\"\u001b[0m\u001b[0;34m]\u001b[0m\u001b[0;34m\u001b[0m\u001b[0;34m\u001b[0m\u001b[0m\n",
            "\u001b[0;32m<ipython-input-63-1a060b407785>\u001b[0m in \u001b[0;36msend_msg\u001b[0;34m(chat_id, text)\u001b[0m\n\u001b[1;32m     38\u001b[0m \u001b[0;34m\u001b[0m\u001b[0m\n\u001b[1;32m     39\u001b[0m \u001b[0;32mdef\u001b[0m \u001b[0msend_msg\u001b[0m\u001b[0;34m(\u001b[0m\u001b[0mchat_id\u001b[0m\u001b[0;34m,\u001b[0m \u001b[0mtext\u001b[0m\u001b[0;34m)\u001b[0m\u001b[0;34m:\u001b[0m\u001b[0;34m\u001b[0m\u001b[0;34m\u001b[0m\u001b[0m\n\u001b[0;32m---> 40\u001b[0;31m     \u001b[0mresponse\u001b[0m\u001b[0;34m=\u001b[0m\u001b[0mstr\u001b[0m\u001b[0;34m(\u001b[0m\u001b[0magent\u001b[0m\u001b[0;34m.\u001b[0m\u001b[0mrun\u001b[0m\u001b[0;34m(\u001b[0m\u001b[0mstr\u001b[0m\u001b[0;34m(\u001b[0m\u001b[0mtext\u001b[0m\u001b[0;34m)\u001b[0m\u001b[0;34m)\u001b[0m\u001b[0;34m)\u001b[0m\u001b[0;34m\u001b[0m\u001b[0;34m\u001b[0m\u001b[0m\n\u001b[0m\u001b[1;32m     41\u001b[0m     parameters = {\n\u001b[1;32m     42\u001b[0m         \u001b[0;34m\"chat_id\"\u001b[0m\u001b[0;34m:\u001b[0m \u001b[0mchat_id\u001b[0m\u001b[0;34m,\u001b[0m\u001b[0;34m\u001b[0m\u001b[0;34m\u001b[0m\u001b[0m\n",
            "\u001b[0;32m/usr/local/lib/python3.10/dist-packages/langchain/chains/base.py\u001b[0m in \u001b[0;36mrun\u001b[0;34m(self, callbacks, tags, metadata, *args, **kwargs)\u001b[0m\n\u001b[1;32m    473\u001b[0m             \u001b[0;32mif\u001b[0m \u001b[0mlen\u001b[0m\u001b[0;34m(\u001b[0m\u001b[0margs\u001b[0m\u001b[0;34m)\u001b[0m \u001b[0;34m!=\u001b[0m \u001b[0;36m1\u001b[0m\u001b[0;34m:\u001b[0m\u001b[0;34m\u001b[0m\u001b[0;34m\u001b[0m\u001b[0m\n\u001b[1;32m    474\u001b[0m                 \u001b[0;32mraise\u001b[0m \u001b[0mValueError\u001b[0m\u001b[0;34m(\u001b[0m\u001b[0;34m\"`run` supports only one positional argument.\"\u001b[0m\u001b[0;34m)\u001b[0m\u001b[0;34m\u001b[0m\u001b[0;34m\u001b[0m\u001b[0m\n\u001b[0;32m--> 475\u001b[0;31m             return self(args[0], callbacks=callbacks, tags=tags, metadata=metadata)[\n\u001b[0m\u001b[1;32m    476\u001b[0m                 \u001b[0m_output_key\u001b[0m\u001b[0;34m\u001b[0m\u001b[0;34m\u001b[0m\u001b[0m\n\u001b[1;32m    477\u001b[0m             ]\n",
            "\u001b[0;32m/usr/local/lib/python3.10/dist-packages/langchain/chains/base.py\u001b[0m in \u001b[0;36m__call__\u001b[0;34m(self, inputs, return_only_outputs, callbacks, tags, metadata, include_run_info)\u001b[0m\n\u001b[1;32m    280\u001b[0m         \u001b[0;32mexcept\u001b[0m \u001b[0;34m(\u001b[0m\u001b[0mKeyboardInterrupt\u001b[0m\u001b[0;34m,\u001b[0m \u001b[0mException\u001b[0m\u001b[0;34m)\u001b[0m \u001b[0;32mas\u001b[0m \u001b[0me\u001b[0m\u001b[0;34m:\u001b[0m\u001b[0;34m\u001b[0m\u001b[0;34m\u001b[0m\u001b[0m\n\u001b[1;32m    281\u001b[0m             \u001b[0mrun_manager\u001b[0m\u001b[0;34m.\u001b[0m\u001b[0mon_chain_error\u001b[0m\u001b[0;34m(\u001b[0m\u001b[0me\u001b[0m\u001b[0;34m)\u001b[0m\u001b[0;34m\u001b[0m\u001b[0;34m\u001b[0m\u001b[0m\n\u001b[0;32m--> 282\u001b[0;31m             \u001b[0;32mraise\u001b[0m \u001b[0me\u001b[0m\u001b[0;34m\u001b[0m\u001b[0;34m\u001b[0m\u001b[0m\n\u001b[0m\u001b[1;32m    283\u001b[0m         \u001b[0mrun_manager\u001b[0m\u001b[0;34m.\u001b[0m\u001b[0mon_chain_end\u001b[0m\u001b[0;34m(\u001b[0m\u001b[0moutputs\u001b[0m\u001b[0;34m)\u001b[0m\u001b[0;34m\u001b[0m\u001b[0;34m\u001b[0m\u001b[0m\n\u001b[1;32m    284\u001b[0m         final_outputs: Dict[str, Any] = self.prep_outputs(\n",
            "\u001b[0;32m/usr/local/lib/python3.10/dist-packages/langchain/chains/base.py\u001b[0m in \u001b[0;36m__call__\u001b[0;34m(self, inputs, return_only_outputs, callbacks, tags, metadata, include_run_info)\u001b[0m\n\u001b[1;32m    274\u001b[0m         \u001b[0;32mtry\u001b[0m\u001b[0;34m:\u001b[0m\u001b[0;34m\u001b[0m\u001b[0;34m\u001b[0m\u001b[0m\n\u001b[1;32m    275\u001b[0m             outputs = (\n\u001b[0;32m--> 276\u001b[0;31m                 \u001b[0mself\u001b[0m\u001b[0;34m.\u001b[0m\u001b[0m_call\u001b[0m\u001b[0;34m(\u001b[0m\u001b[0minputs\u001b[0m\u001b[0;34m,\u001b[0m \u001b[0mrun_manager\u001b[0m\u001b[0;34m=\u001b[0m\u001b[0mrun_manager\u001b[0m\u001b[0;34m)\u001b[0m\u001b[0;34m\u001b[0m\u001b[0;34m\u001b[0m\u001b[0m\n\u001b[0m\u001b[1;32m    277\u001b[0m                 \u001b[0;32mif\u001b[0m \u001b[0mnew_arg_supported\u001b[0m\u001b[0;34m\u001b[0m\u001b[0;34m\u001b[0m\u001b[0m\n\u001b[1;32m    278\u001b[0m                 \u001b[0;32melse\u001b[0m \u001b[0mself\u001b[0m\u001b[0;34m.\u001b[0m\u001b[0m_call\u001b[0m\u001b[0;34m(\u001b[0m\u001b[0minputs\u001b[0m\u001b[0;34m)\u001b[0m\u001b[0;34m\u001b[0m\u001b[0;34m\u001b[0m\u001b[0m\n",
            "\u001b[0;32m/usr/local/lib/python3.10/dist-packages/langchain/agents/agent.py\u001b[0m in \u001b[0;36m_call\u001b[0;34m(self, inputs, run_manager)\u001b[0m\n\u001b[1;32m   1034\u001b[0m         \u001b[0;31m# We now enter the agent loop (until it returns something).\u001b[0m\u001b[0;34m\u001b[0m\u001b[0;34m\u001b[0m\u001b[0m\n\u001b[1;32m   1035\u001b[0m         \u001b[0;32mwhile\u001b[0m \u001b[0mself\u001b[0m\u001b[0;34m.\u001b[0m\u001b[0m_should_continue\u001b[0m\u001b[0;34m(\u001b[0m\u001b[0miterations\u001b[0m\u001b[0;34m,\u001b[0m \u001b[0mtime_elapsed\u001b[0m\u001b[0;34m)\u001b[0m\u001b[0;34m:\u001b[0m\u001b[0;34m\u001b[0m\u001b[0;34m\u001b[0m\u001b[0m\n\u001b[0;32m-> 1036\u001b[0;31m             next_step_output = self._take_next_step(\n\u001b[0m\u001b[1;32m   1037\u001b[0m                 \u001b[0mname_to_tool_map\u001b[0m\u001b[0;34m,\u001b[0m\u001b[0;34m\u001b[0m\u001b[0;34m\u001b[0m\u001b[0m\n\u001b[1;32m   1038\u001b[0m                 \u001b[0mcolor_mapping\u001b[0m\u001b[0;34m,\u001b[0m\u001b[0;34m\u001b[0m\u001b[0;34m\u001b[0m\u001b[0m\n",
            "\u001b[0;32m/usr/local/lib/python3.10/dist-packages/langchain/agents/agent.py\u001b[0m in \u001b[0;36m_take_next_step\u001b[0;34m(self, name_to_tool_map, color_mapping, inputs, intermediate_steps, run_manager)\u001b[0m\n\u001b[1;32m    889\u001b[0m                     \u001b[0mtool_run_kwargs\u001b[0m\u001b[0;34m[\u001b[0m\u001b[0;34m\"llm_prefix\"\u001b[0m\u001b[0;34m]\u001b[0m \u001b[0;34m=\u001b[0m \u001b[0;34m\"\"\u001b[0m\u001b[0;34m\u001b[0m\u001b[0;34m\u001b[0m\u001b[0m\n\u001b[1;32m    890\u001b[0m                 \u001b[0;31m# We then call the tool on the tool input to get an observation\u001b[0m\u001b[0;34m\u001b[0m\u001b[0;34m\u001b[0m\u001b[0m\n\u001b[0;32m--> 891\u001b[0;31m                 observation = tool.run(\n\u001b[0m\u001b[1;32m    892\u001b[0m                     \u001b[0magent_action\u001b[0m\u001b[0;34m.\u001b[0m\u001b[0mtool_input\u001b[0m\u001b[0;34m,\u001b[0m\u001b[0;34m\u001b[0m\u001b[0;34m\u001b[0m\u001b[0m\n\u001b[1;32m    893\u001b[0m                     \u001b[0mverbose\u001b[0m\u001b[0;34m=\u001b[0m\u001b[0mself\u001b[0m\u001b[0;34m.\u001b[0m\u001b[0mverbose\u001b[0m\u001b[0;34m,\u001b[0m\u001b[0;34m\u001b[0m\u001b[0;34m\u001b[0m\u001b[0m\n",
            "\u001b[0;32m/usr/local/lib/python3.10/dist-packages/langchain/tools/base.py\u001b[0m in \u001b[0;36mrun\u001b[0;34m(self, tool_input, verbose, start_color, color, callbacks, tags, metadata, **kwargs)\u001b[0m\n\u001b[1;32m    349\u001b[0m         \u001b[0;32mexcept\u001b[0m \u001b[0;34m(\u001b[0m\u001b[0mException\u001b[0m\u001b[0;34m,\u001b[0m \u001b[0mKeyboardInterrupt\u001b[0m\u001b[0;34m)\u001b[0m \u001b[0;32mas\u001b[0m \u001b[0me\u001b[0m\u001b[0;34m:\u001b[0m\u001b[0;34m\u001b[0m\u001b[0;34m\u001b[0m\u001b[0m\n\u001b[1;32m    350\u001b[0m             \u001b[0mrun_manager\u001b[0m\u001b[0;34m.\u001b[0m\u001b[0mon_tool_error\u001b[0m\u001b[0;34m(\u001b[0m\u001b[0me\u001b[0m\u001b[0;34m)\u001b[0m\u001b[0;34m\u001b[0m\u001b[0;34m\u001b[0m\u001b[0m\n\u001b[0;32m--> 351\u001b[0;31m             \u001b[0;32mraise\u001b[0m \u001b[0me\u001b[0m\u001b[0;34m\u001b[0m\u001b[0;34m\u001b[0m\u001b[0m\n\u001b[0m\u001b[1;32m    352\u001b[0m         \u001b[0;32melse\u001b[0m\u001b[0;34m:\u001b[0m\u001b[0;34m\u001b[0m\u001b[0;34m\u001b[0m\u001b[0m\n\u001b[1;32m    353\u001b[0m             run_manager.on_tool_end(\n",
            "\u001b[0;32m/usr/local/lib/python3.10/dist-packages/langchain/tools/base.py\u001b[0m in \u001b[0;36mrun\u001b[0;34m(self, tool_input, verbose, start_color, color, callbacks, tags, metadata, **kwargs)\u001b[0m\n\u001b[1;32m    321\u001b[0m             \u001b[0mtool_args\u001b[0m\u001b[0;34m,\u001b[0m \u001b[0mtool_kwargs\u001b[0m \u001b[0;34m=\u001b[0m \u001b[0mself\u001b[0m\u001b[0;34m.\u001b[0m\u001b[0m_to_args_and_kwargs\u001b[0m\u001b[0;34m(\u001b[0m\u001b[0mparsed_input\u001b[0m\u001b[0;34m)\u001b[0m\u001b[0;34m\u001b[0m\u001b[0;34m\u001b[0m\u001b[0m\n\u001b[1;32m    322\u001b[0m             observation = (\n\u001b[0;32m--> 323\u001b[0;31m                 \u001b[0mself\u001b[0m\u001b[0;34m.\u001b[0m\u001b[0m_run\u001b[0m\u001b[0;34m(\u001b[0m\u001b[0;34m*\u001b[0m\u001b[0mtool_args\u001b[0m\u001b[0;34m,\u001b[0m \u001b[0mrun_manager\u001b[0m\u001b[0;34m=\u001b[0m\u001b[0mrun_manager\u001b[0m\u001b[0;34m,\u001b[0m \u001b[0;34m**\u001b[0m\u001b[0mtool_kwargs\u001b[0m\u001b[0;34m)\u001b[0m\u001b[0;34m\u001b[0m\u001b[0;34m\u001b[0m\u001b[0m\n\u001b[0m\u001b[1;32m    324\u001b[0m                 \u001b[0;32mif\u001b[0m \u001b[0mnew_arg_supported\u001b[0m\u001b[0;34m\u001b[0m\u001b[0;34m\u001b[0m\u001b[0m\n\u001b[1;32m    325\u001b[0m                 \u001b[0;32melse\u001b[0m \u001b[0mself\u001b[0m\u001b[0;34m.\u001b[0m\u001b[0m_run\u001b[0m\u001b[0;34m(\u001b[0m\u001b[0;34m*\u001b[0m\u001b[0mtool_args\u001b[0m\u001b[0;34m,\u001b[0m \u001b[0;34m**\u001b[0m\u001b[0mtool_kwargs\u001b[0m\u001b[0;34m)\u001b[0m\u001b[0;34m\u001b[0m\u001b[0;34m\u001b[0m\u001b[0m\n",
            "\u001b[0;32m/usr/local/lib/python3.10/dist-packages/langchain/tools/base.py\u001b[0m in \u001b[0;36m_run\u001b[0;34m(self, run_manager, *args, **kwargs)\u001b[0m\n\u001b[1;32m    497\u001b[0m             )\n\u001b[1;32m    498\u001b[0m             \u001b[0;32mif\u001b[0m \u001b[0mnew_argument_supported\u001b[0m\u001b[0;34m\u001b[0m\u001b[0;34m\u001b[0m\u001b[0m\n\u001b[0;32m--> 499\u001b[0;31m             \u001b[0;32melse\u001b[0m \u001b[0mself\u001b[0m\u001b[0;34m.\u001b[0m\u001b[0mfunc\u001b[0m\u001b[0;34m(\u001b[0m\u001b[0;34m*\u001b[0m\u001b[0margs\u001b[0m\u001b[0;34m,\u001b[0m \u001b[0;34m**\u001b[0m\u001b[0mkwargs\u001b[0m\u001b[0;34m)\u001b[0m\u001b[0;34m\u001b[0m\u001b[0;34m\u001b[0m\u001b[0m\n\u001b[0m\u001b[1;32m    500\u001b[0m         )\n\u001b[1;32m    501\u001b[0m \u001b[0;34m\u001b[0m\u001b[0m\n",
            "\u001b[0;32m<ipython-input-8-54da1ba491c8>\u001b[0m in \u001b[0;36mget_stock_price\u001b[0;34m(symbol, tool_input)\u001b[0m\n\u001b[1;32m      4\u001b[0m     \u001b[0mticker\u001b[0m \u001b[0;34m=\u001b[0m \u001b[0myf\u001b[0m\u001b[0;34m.\u001b[0m\u001b[0mTicker\u001b[0m\u001b[0;34m(\u001b[0m\u001b[0msymbol\u001b[0m\u001b[0;34m)\u001b[0m\u001b[0;34m\u001b[0m\u001b[0;34m\u001b[0m\u001b[0m\n\u001b[1;32m      5\u001b[0m     \u001b[0mtodays_data\u001b[0m \u001b[0;34m=\u001b[0m \u001b[0mticker\u001b[0m\u001b[0;34m.\u001b[0m\u001b[0mhistory\u001b[0m\u001b[0;34m(\u001b[0m\u001b[0mperiod\u001b[0m\u001b[0;34m=\u001b[0m\u001b[0;34m'1d'\u001b[0m\u001b[0;34m)\u001b[0m\u001b[0;34m\u001b[0m\u001b[0;34m\u001b[0m\u001b[0m\n\u001b[0;32m----> 6\u001b[0;31m     \u001b[0;32mreturn\u001b[0m \u001b[0mround\u001b[0m\u001b[0;34m(\u001b[0m\u001b[0mtodays_data\u001b[0m\u001b[0;34m[\u001b[0m\u001b[0;34m'Close'\u001b[0m\u001b[0;34m]\u001b[0m\u001b[0;34m[\u001b[0m\u001b[0;36m0\u001b[0m\u001b[0;34m]\u001b[0m\u001b[0;34m,\u001b[0m \u001b[0;36m2\u001b[0m\u001b[0;34m)\u001b[0m\u001b[0;34m\u001b[0m\u001b[0;34m\u001b[0m\u001b[0m\n\u001b[0m\u001b[1;32m      7\u001b[0m \u001b[0;34m\u001b[0m\u001b[0m\n\u001b[1;32m      8\u001b[0m \u001b[0;31m# use the function\u001b[0m\u001b[0;34m\u001b[0m\u001b[0;34m\u001b[0m\u001b[0m\n",
            "\u001b[0;32m/usr/local/lib/python3.10/dist-packages/pandas/core/series.py\u001b[0m in \u001b[0;36m__getitem__\u001b[0;34m(self, key)\u001b[0m\n\u001b[1;32m    976\u001b[0m \u001b[0;34m\u001b[0m\u001b[0m\n\u001b[1;32m    977\u001b[0m         \u001b[0;32mif\u001b[0m \u001b[0mis_integer\u001b[0m\u001b[0;34m(\u001b[0m\u001b[0mkey\u001b[0m\u001b[0;34m)\u001b[0m \u001b[0;32mand\u001b[0m \u001b[0mself\u001b[0m\u001b[0;34m.\u001b[0m\u001b[0mindex\u001b[0m\u001b[0;34m.\u001b[0m\u001b[0m_should_fallback_to_positional\u001b[0m\u001b[0;34m:\u001b[0m\u001b[0;34m\u001b[0m\u001b[0;34m\u001b[0m\u001b[0m\n\u001b[0;32m--> 978\u001b[0;31m             \u001b[0;32mreturn\u001b[0m \u001b[0mself\u001b[0m\u001b[0;34m.\u001b[0m\u001b[0m_values\u001b[0m\u001b[0;34m[\u001b[0m\u001b[0mkey\u001b[0m\u001b[0;34m]\u001b[0m\u001b[0;34m\u001b[0m\u001b[0;34m\u001b[0m\u001b[0m\n\u001b[0m\u001b[1;32m    979\u001b[0m \u001b[0;34m\u001b[0m\u001b[0m\n\u001b[1;32m    980\u001b[0m         \u001b[0;32melif\u001b[0m \u001b[0mkey_is_scalar\u001b[0m\u001b[0;34m:\u001b[0m\u001b[0;34m\u001b[0m\u001b[0;34m\u001b[0m\u001b[0m\n",
            "\u001b[0;31mIndexError\u001b[0m: index 0 is out of bounds for axis 0 with size 0"
          ]
        }
      ],
      "source": [
        "import requests\n",
        "\n",
        "# Your bot token and base URL\n",
        "base_url = \"https://api.telegram.org/bot6374687953:AAFBTrbQbM447fumbPjgB4XPAJ9Ai_UY8CM\"\n",
        "\n",
        "def read_msg(offset):\n",
        "    parameters = {\n",
        "        \"offset\": offset\n",
        "    }\n",
        "    resp = requests.get(base_url + \"/getUpdates\", params=parameters)\n",
        "    data = resp.json()\n",
        "\n",
        "    for result in data[\"result\"]:\n",
        "        if 'text' in result['message']:\n",
        "          send_msg(result[\"message\"][\"chat\"][\"id\"],result[\"message\"][\"text\"])\n",
        "        if \"photo\" in result[\"message\"]:\n",
        "            received_image_id = result[\"message\"][\"photo\"][-1][\"file_id\"]\n",
        "\n",
        "            image_file_url = get_image_file_path(received_image_id)\n",
        "            image_to_text(image_file_url)\n",
        "            send_img_msg(result[\"message\"][\"chat\"][\"id\"], image_to_text(image_file_url))\n",
        "\n",
        "    if data[\"result\"]:\n",
        "        return data[\"result\"][-1][\"update_id\"] + 1\n",
        "\n",
        "def get_image_file_path(received_image_id):\n",
        "    parameters = {\n",
        "        \"file_id\": received_image_id\n",
        "    }\n",
        "    resp = requests.get(base_url + \"/getFile\", params=parameters)\n",
        "    data = resp.json()\n",
        "    if data[\"ok\"]:\n",
        "        file_path = data[\"result\"][\"file_path\"]\n",
        "        # Construct the full URL to the image file\n",
        "        image_file_url = f\"https://api.telegram.org/file/bot6374687953:AAFBTrbQbM447fumbPjgB4XPAJ9Ai_UY8CM/{file_path}\"\n",
        "        return image_file_url\n",
        "    return None\n",
        "\n",
        "def send_msg(chat_id, text):\n",
        "    response=str(agent.run(str(text)))\n",
        "    parameters = {\n",
        "        \"chat_id\": chat_id,\n",
        "        \"text\": str(response)\n",
        "    }\n",
        "    resp = requests.get(base_url + \"/sendMessage\", params=parameters)\n",
        "\n",
        "def send_img_msg(chat_id, text):\n",
        "    print(str(text))\n",
        "    response=str(agent.run(\"consider all in rupees [describe the data]\"+str(text)))\n",
        "    parameters = {\n",
        "        \"chat_id\": chat_id,\n",
        "        \"text\": str(response)\n",
        "    }\n",
        "    resp = requests.get(base_url + \"/sendMessage\", params=parameters)\n",
        "\n",
        "offset = 0\n",
        "while True:\n",
        "    offset = read_msg(offset)\n"
      ]
    },
    {
      "cell_type": "code",
      "execution_count": null,
      "metadata": {
        "id": "giKUPROqbVFq"
      },
      "outputs": [],
      "source": [
        "''"
      ]
    }
  ],
  "metadata": {
    "colab": {
      "provenance": []
    },
    "kernelspec": {
      "display_name": "Python 3",
      "name": "python3"
    },
    "language_info": {
      "name": "python"
    }
  },
  "nbformat": 4,
  "nbformat_minor": 0
}